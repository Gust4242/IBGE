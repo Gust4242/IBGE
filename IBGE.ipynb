{
 "cells": [
  {
   "cell_type": "markdown",
   "metadata": {},
   "source": [
    "- https://apisidra.ibge.gov.br/\n",
    "- https://sidrapy.readthedocs.io/pt_BR/latest/modules/table.html"
   ]
  },
  {
   "cell_type": "code",
   "execution_count": 74,
   "metadata": {},
   "outputs": [],
   "source": [
    "import numpy as numpy\n",
    "import pandas as pd\n",
    "import matplotlib.pyplot as plt\n",
    "import seaborn as sns\n",
    "import plotly.express as px\n",
    "import plotly.graph_objects as go\n",
    "import sidrapy\n",
    "\n",
    "from unidecode import unidecode"
   ]
  },
  {
   "cell_type": "markdown",
   "metadata": {},
   "source": [
    "### Jogo do bixo - analysis"
   ]
  },
  {
   "cell_type": "code",
   "execution_count": 39,
   "metadata": {},
   "outputs": [
    {
     "data": {
      "text/html": [
       "<div>\n",
       "<style scoped>\n",
       "    .dataframe tbody tr th:only-of-type {\n",
       "        vertical-align: middle;\n",
       "    }\n",
       "\n",
       "    .dataframe tbody tr th {\n",
       "        vertical-align: top;\n",
       "    }\n",
       "\n",
       "    .dataframe thead th {\n",
       "        text-align: right;\n",
       "    }\n",
       "</style>\n",
       "<table border=\"1\" class=\"dataframe\">\n",
       "  <thead>\n",
       "    <tr style=\"text-align: right;\">\n",
       "      <th></th>\n",
       "      <th>NC</th>\n",
       "      <th>NN</th>\n",
       "      <th>MC</th>\n",
       "      <th>MN</th>\n",
       "      <th>V</th>\n",
       "      <th>D1C</th>\n",
       "      <th>D1N</th>\n",
       "      <th>D2C</th>\n",
       "      <th>D2N</th>\n",
       "      <th>D3C</th>\n",
       "      <th>D3N</th>\n",
       "      <th>D4C</th>\n",
       "      <th>D4N</th>\n",
       "    </tr>\n",
       "  </thead>\n",
       "  <tbody>\n",
       "    <tr>\n",
       "      <th>0</th>\n",
       "      <td>Nível Territorial (Código)</td>\n",
       "      <td>Nível Territorial</td>\n",
       "      <td>Unidade de Medida (Código)</td>\n",
       "      <td>Unidade de Medida</td>\n",
       "      <td>Valor</td>\n",
       "      <td>Brasil (Código)</td>\n",
       "      <td>Brasil</td>\n",
       "      <td>Mês (Código)</td>\n",
       "      <td>Mês</td>\n",
       "      <td>Variável (Código)</td>\n",
       "      <td>Variável</td>\n",
       "      <td>Geral, grupo, subgrupo, item e subitem (Código)</td>\n",
       "      <td>Geral, grupo, subgrupo, item e subitem</td>\n",
       "    </tr>\n",
       "    <tr>\n",
       "      <th>1</th>\n",
       "      <td>1</td>\n",
       "      <td>Brasil</td>\n",
       "      <td>2</td>\n",
       "      <td>%</td>\n",
       "      <td>0.21</td>\n",
       "      <td>1</td>\n",
       "      <td>Brasil</td>\n",
       "      <td>202001</td>\n",
       "      <td>janeiro 2020</td>\n",
       "      <td>63</td>\n",
       "      <td>IPCA - Variação mensal</td>\n",
       "      <td>7169</td>\n",
       "      <td>Índice geral</td>\n",
       "    </tr>\n",
       "    <tr>\n",
       "      <th>2</th>\n",
       "      <td>1</td>\n",
       "      <td>Brasil</td>\n",
       "      <td>2</td>\n",
       "      <td>%</td>\n",
       "      <td>0.39</td>\n",
       "      <td>1</td>\n",
       "      <td>Brasil</td>\n",
       "      <td>202001</td>\n",
       "      <td>janeiro 2020</td>\n",
       "      <td>63</td>\n",
       "      <td>IPCA - Variação mensal</td>\n",
       "      <td>7170</td>\n",
       "      <td>1.Alimentação e bebidas</td>\n",
       "    </tr>\n",
       "    <tr>\n",
       "      <th>3</th>\n",
       "      <td>1</td>\n",
       "      <td>Brasil</td>\n",
       "      <td>2</td>\n",
       "      <td>%</td>\n",
       "      <td>0.20</td>\n",
       "      <td>1</td>\n",
       "      <td>Brasil</td>\n",
       "      <td>202001</td>\n",
       "      <td>janeiro 2020</td>\n",
       "      <td>63</td>\n",
       "      <td>IPCA - Variação mensal</td>\n",
       "      <td>7171</td>\n",
       "      <td>11.Alimentação no domicílio</td>\n",
       "    </tr>\n",
       "    <tr>\n",
       "      <th>4</th>\n",
       "      <td>1</td>\n",
       "      <td>Brasil</td>\n",
       "      <td>2</td>\n",
       "      <td>%</td>\n",
       "      <td>0.75</td>\n",
       "      <td>1</td>\n",
       "      <td>Brasil</td>\n",
       "      <td>202001</td>\n",
       "      <td>janeiro 2020</td>\n",
       "      <td>63</td>\n",
       "      <td>IPCA - Variação mensal</td>\n",
       "      <td>7172</td>\n",
       "      <td>1101.Cereais, leguminosas e oleaginosas</td>\n",
       "    </tr>\n",
       "  </tbody>\n",
       "</table>\n",
       "</div>"
      ],
      "text/plain": [
       "                           NC                 NN                          MC  \\\n",
       "0  Nível Territorial (Código)  Nível Territorial  Unidade de Medida (Código)   \n",
       "1                           1             Brasil                           2   \n",
       "2                           1             Brasil                           2   \n",
       "3                           1             Brasil                           2   \n",
       "4                           1             Brasil                           2   \n",
       "\n",
       "                  MN      V              D1C     D1N           D2C  \\\n",
       "0  Unidade de Medida  Valor  Brasil (Código)  Brasil  Mês (Código)   \n",
       "1                  %   0.21                1  Brasil        202001   \n",
       "2                  %   0.39                1  Brasil        202001   \n",
       "3                  %   0.20                1  Brasil        202001   \n",
       "4                  %   0.75                1  Brasil        202001   \n",
       "\n",
       "            D2N                D3C                     D3N  \\\n",
       "0           Mês  Variável (Código)                Variável   \n",
       "1  janeiro 2020                 63  IPCA - Variação mensal   \n",
       "2  janeiro 2020                 63  IPCA - Variação mensal   \n",
       "3  janeiro 2020                 63  IPCA - Variação mensal   \n",
       "4  janeiro 2020                 63  IPCA - Variação mensal   \n",
       "\n",
       "                                               D4C  \\\n",
       "0  Geral, grupo, subgrupo, item e subitem (Código)   \n",
       "1                                             7169   \n",
       "2                                             7170   \n",
       "3                                             7171   \n",
       "4                                             7172   \n",
       "\n",
       "                                       D4N  \n",
       "0   Geral, grupo, subgrupo, item e subitem  \n",
       "1                             Índice geral  \n",
       "2                  1.Alimentação e bebidas  \n",
       "3              11.Alimentação no domicílio  \n",
       "4  1101.Cereais, leguminosas e oleaginosas  "
      ]
     },
     "execution_count": 39,
     "metadata": {},
     "output_type": "execute_result"
    }
   ],
   "source": [
    "ipca = sidrapy.get_table(table_code='7060', territorial_level='1', ibge_territorial_code='all', period='last 48', classification='315/all', variable='63', header='y')\n",
    "ipca.head()"
   ]
  },
  {
   "cell_type": "code",
   "execution_count": 40,
   "metadata": {},
   "outputs": [
    {
     "data": {
      "text/html": [
       "<div>\n",
       "<style scoped>\n",
       "    .dataframe tbody tr th:only-of-type {\n",
       "        vertical-align: middle;\n",
       "    }\n",
       "\n",
       "    .dataframe tbody tr th {\n",
       "        vertical-align: top;\n",
       "    }\n",
       "\n",
       "    .dataframe thead th {\n",
       "        text-align: right;\n",
       "    }\n",
       "</style>\n",
       "<table border=\"1\" class=\"dataframe\">\n",
       "  <thead>\n",
       "    <tr style=\"text-align: right;\">\n",
       "      <th></th>\n",
       "      <th>Valor</th>\n",
       "      <th>Mes</th>\n",
       "      <th>Parada</th>\n",
       "    </tr>\n",
       "  </thead>\n",
       "  <tbody>\n",
       "    <tr>\n",
       "      <th>1</th>\n",
       "      <td>0.0021</td>\n",
       "      <td>Jan</td>\n",
       "      <td>Índice geral</td>\n",
       "    </tr>\n",
       "    <tr>\n",
       "      <th>2</th>\n",
       "      <td>0.0039</td>\n",
       "      <td>Jan</td>\n",
       "      <td>1.Alimentação e bebidas</td>\n",
       "    </tr>\n",
       "    <tr>\n",
       "      <th>3</th>\n",
       "      <td>0.0020</td>\n",
       "      <td>Jan</td>\n",
       "      <td>11.Alimentação no domicílio</td>\n",
       "    </tr>\n",
       "    <tr>\n",
       "      <th>4</th>\n",
       "      <td>0.0075</td>\n",
       "      <td>Jan</td>\n",
       "      <td>1101.Cereais, leguminosas e oleaginosas</td>\n",
       "    </tr>\n",
       "    <tr>\n",
       "      <th>5</th>\n",
       "      <td>0.0131</td>\n",
       "      <td>Jan</td>\n",
       "      <td>1101002.Arroz</td>\n",
       "    </tr>\n",
       "  </tbody>\n",
       "</table>\n",
       "</div>"
      ],
      "text/plain": [
       "    Valor  Mes                                   Parada\n",
       "1  0.0021  Jan                             Índice geral\n",
       "2  0.0039  Jan                  1.Alimentação e bebidas\n",
       "3  0.0020  Jan              11.Alimentação no domicílio\n",
       "4  0.0075  Jan  1101.Cereais, leguminosas e oleaginosas\n",
       "5  0.0131  Jan                            1101002.Arroz"
      ]
     },
     "execution_count": 40,
     "metadata": {},
     "output_type": "execute_result"
    }
   ],
   "source": [
    "ipca.columns = ipca.iloc[0]\n",
    "ipca = ipca.iloc[1:]\n",
    "ipca = ipca.iloc[:, [4, 7, 12]]\n",
    "ipca['Valor'] = ipca['Valor'].astype(float)\n",
    "ipca['Valor'] = ipca['Valor'] / 100\n",
    "ipca.columns = ['Valor', 'Mes', 'Parada']\n",
    "ipca['Mes'] = ipca['Mes'].replace({'202001':'Jan', '202002':'Fev', '202003':'Mar',\n",
    "                                '202004':'Abr', '202005':'Mai', '202006':'Jun'})\n",
    "ipca.head()"
   ]
  },
  {
   "cell_type": "code",
   "execution_count": 41,
   "metadata": {},
   "outputs": [
    {
     "data": {
      "text/html": [
       "<div>\n",
       "<style scoped>\n",
       "    .dataframe tbody tr th:only-of-type {\n",
       "        vertical-align: middle;\n",
       "    }\n",
       "\n",
       "    .dataframe tbody tr th {\n",
       "        vertical-align: top;\n",
       "    }\n",
       "\n",
       "    .dataframe thead th {\n",
       "        text-align: right;\n",
       "    }\n",
       "</style>\n",
       "<table border=\"1\" class=\"dataframe\">\n",
       "  <thead>\n",
       "    <tr style=\"text-align: right;\">\n",
       "      <th></th>\n",
       "      <th>NC</th>\n",
       "      <th>NN</th>\n",
       "      <th>MC</th>\n",
       "      <th>MN</th>\n",
       "      <th>V</th>\n",
       "      <th>D1C</th>\n",
       "      <th>D1N</th>\n",
       "      <th>D2C</th>\n",
       "      <th>D2N</th>\n",
       "      <th>D3C</th>\n",
       "      <th>D3N</th>\n",
       "      <th>D4C</th>\n",
       "      <th>D4N</th>\n",
       "    </tr>\n",
       "  </thead>\n",
       "  <tbody>\n",
       "    <tr>\n",
       "      <th>0</th>\n",
       "      <td>Nível Territorial (Código)</td>\n",
       "      <td>Nível Territorial</td>\n",
       "      <td>Unidade de Medida (Código)</td>\n",
       "      <td>Unidade de Medida</td>\n",
       "      <td>Valor</td>\n",
       "      <td>Brasil (Código)</td>\n",
       "      <td>Brasil</td>\n",
       "      <td>Mês (Código)</td>\n",
       "      <td>Mês</td>\n",
       "      <td>Variável (Código)</td>\n",
       "      <td>Variável</td>\n",
       "      <td>Geral, grupo, subgrupo, item e subitem (Código)</td>\n",
       "      <td>Geral, grupo, subgrupo, item e subitem</td>\n",
       "    </tr>\n",
       "    <tr>\n",
       "      <th>1</th>\n",
       "      <td>1</td>\n",
       "      <td>Brasil</td>\n",
       "      <td>2</td>\n",
       "      <td>%</td>\n",
       "      <td>100.0000</td>\n",
       "      <td>1</td>\n",
       "      <td>Brasil</td>\n",
       "      <td>202001</td>\n",
       "      <td>janeiro 2020</td>\n",
       "      <td>66</td>\n",
       "      <td>IPCA - Peso mensal</td>\n",
       "      <td>7169</td>\n",
       "      <td>Índice geral</td>\n",
       "    </tr>\n",
       "    <tr>\n",
       "      <th>2</th>\n",
       "      <td>1</td>\n",
       "      <td>Brasil</td>\n",
       "      <td>2</td>\n",
       "      <td>%</td>\n",
       "      <td>19.3483</td>\n",
       "      <td>1</td>\n",
       "      <td>Brasil</td>\n",
       "      <td>202001</td>\n",
       "      <td>janeiro 2020</td>\n",
       "      <td>66</td>\n",
       "      <td>IPCA - Peso mensal</td>\n",
       "      <td>7170</td>\n",
       "      <td>1.Alimentação e bebidas</td>\n",
       "    </tr>\n",
       "    <tr>\n",
       "      <th>3</th>\n",
       "      <td>1</td>\n",
       "      <td>Brasil</td>\n",
       "      <td>2</td>\n",
       "      <td>%</td>\n",
       "      <td>13.4813</td>\n",
       "      <td>1</td>\n",
       "      <td>Brasil</td>\n",
       "      <td>202001</td>\n",
       "      <td>janeiro 2020</td>\n",
       "      <td>66</td>\n",
       "      <td>IPCA - Peso mensal</td>\n",
       "      <td>7171</td>\n",
       "      <td>11.Alimentação no domicílio</td>\n",
       "    </tr>\n",
       "    <tr>\n",
       "      <th>4</th>\n",
       "      <td>1</td>\n",
       "      <td>Brasil</td>\n",
       "      <td>2</td>\n",
       "      <td>%</td>\n",
       "      <td>0.6927</td>\n",
       "      <td>1</td>\n",
       "      <td>Brasil</td>\n",
       "      <td>202001</td>\n",
       "      <td>janeiro 2020</td>\n",
       "      <td>66</td>\n",
       "      <td>IPCA - Peso mensal</td>\n",
       "      <td>7172</td>\n",
       "      <td>1101.Cereais, leguminosas e oleaginosas</td>\n",
       "    </tr>\n",
       "  </tbody>\n",
       "</table>\n",
       "</div>"
      ],
      "text/plain": [
       "                           NC                 NN                          MC  \\\n",
       "0  Nível Territorial (Código)  Nível Territorial  Unidade de Medida (Código)   \n",
       "1                           1             Brasil                           2   \n",
       "2                           1             Brasil                           2   \n",
       "3                           1             Brasil                           2   \n",
       "4                           1             Brasil                           2   \n",
       "\n",
       "                  MN         V              D1C     D1N           D2C  \\\n",
       "0  Unidade de Medida     Valor  Brasil (Código)  Brasil  Mês (Código)   \n",
       "1                  %  100.0000                1  Brasil        202001   \n",
       "2                  %   19.3483                1  Brasil        202001   \n",
       "3                  %   13.4813                1  Brasil        202001   \n",
       "4                  %    0.6927                1  Brasil        202001   \n",
       "\n",
       "            D2N                D3C                 D3N  \\\n",
       "0           Mês  Variável (Código)            Variável   \n",
       "1  janeiro 2020                 66  IPCA - Peso mensal   \n",
       "2  janeiro 2020                 66  IPCA - Peso mensal   \n",
       "3  janeiro 2020                 66  IPCA - Peso mensal   \n",
       "4  janeiro 2020                 66  IPCA - Peso mensal   \n",
       "\n",
       "                                               D4C  \\\n",
       "0  Geral, grupo, subgrupo, item e subitem (Código)   \n",
       "1                                             7169   \n",
       "2                                             7170   \n",
       "3                                             7171   \n",
       "4                                             7172   \n",
       "\n",
       "                                       D4N  \n",
       "0   Geral, grupo, subgrupo, item e subitem  \n",
       "1                             Índice geral  \n",
       "2                  1.Alimentação e bebidas  \n",
       "3              11.Alimentação no domicílio  \n",
       "4  1101.Cereais, leguminosas e oleaginosas  "
      ]
     },
     "execution_count": 41,
     "metadata": {},
     "output_type": "execute_result"
    }
   ],
   "source": [
    "ipca_w = sidrapy.get_table(table_code='7060', territorial_level='1', ibge_territorial_code='all', period='last 48', classification='315/all', variable='66', header='y')\n",
    "ipca_w.head()"
   ]
  },
  {
   "cell_type": "code",
   "execution_count": 42,
   "metadata": {},
   "outputs": [
    {
     "data": {
      "text/html": [
       "<div>\n",
       "<style scoped>\n",
       "    .dataframe tbody tr th:only-of-type {\n",
       "        vertical-align: middle;\n",
       "    }\n",
       "\n",
       "    .dataframe tbody tr th {\n",
       "        vertical-align: top;\n",
       "    }\n",
       "\n",
       "    .dataframe thead th {\n",
       "        text-align: right;\n",
       "    }\n",
       "</style>\n",
       "<table border=\"1\" class=\"dataframe\">\n",
       "  <thead>\n",
       "    <tr style=\"text-align: right;\">\n",
       "      <th></th>\n",
       "      <th>Peso</th>\n",
       "      <th>Mes</th>\n",
       "      <th>Parada</th>\n",
       "    </tr>\n",
       "  </thead>\n",
       "  <tbody>\n",
       "    <tr>\n",
       "      <th>1</th>\n",
       "      <td>1.000000</td>\n",
       "      <td>Jan</td>\n",
       "      <td>Índice geral</td>\n",
       "    </tr>\n",
       "    <tr>\n",
       "      <th>2</th>\n",
       "      <td>0.193483</td>\n",
       "      <td>Jan</td>\n",
       "      <td>1.Alimentação e bebidas</td>\n",
       "    </tr>\n",
       "    <tr>\n",
       "      <th>3</th>\n",
       "      <td>0.134813</td>\n",
       "      <td>Jan</td>\n",
       "      <td>11.Alimentação no domicílio</td>\n",
       "    </tr>\n",
       "    <tr>\n",
       "      <th>4</th>\n",
       "      <td>0.006927</td>\n",
       "      <td>Jan</td>\n",
       "      <td>1101.Cereais, leguminosas e oleaginosas</td>\n",
       "    </tr>\n",
       "    <tr>\n",
       "      <th>5</th>\n",
       "      <td>0.004753</td>\n",
       "      <td>Jan</td>\n",
       "      <td>1101002.Arroz</td>\n",
       "    </tr>\n",
       "  </tbody>\n",
       "</table>\n",
       "</div>"
      ],
      "text/plain": [
       "       Peso  Mes                                   Parada\n",
       "1  1.000000  Jan                             Índice geral\n",
       "2  0.193483  Jan                  1.Alimentação e bebidas\n",
       "3  0.134813  Jan              11.Alimentação no domicílio\n",
       "4  0.006927  Jan  1101.Cereais, leguminosas e oleaginosas\n",
       "5  0.004753  Jan                            1101002.Arroz"
      ]
     },
     "execution_count": 42,
     "metadata": {},
     "output_type": "execute_result"
    }
   ],
   "source": [
    "ipca_w.columns = ipca_w.iloc[0]\n",
    "ipca_w = ipca_w.iloc[1:]\n",
    "ipca_w = ipca_w.iloc[:, [4, 7, 12]]\n",
    "ipca_w['Valor'] = ipca_w['Valor'].astype(float)\n",
    "ipca_w['Valor'] = ipca_w['Valor'] / 100\n",
    "ipca_w.columns = ['Peso', 'Mes', 'Parada']\n",
    "ipca_w['Mes'] = ipca_w['Mes'].replace({'202001':'Jan', '202002':'Fev', '202003':'Mar',\n",
    "                                '202004':'Abr', '202005':'Mai', '202006':'Jun'})\n",
    "ipca_w.head()"
   ]
  },
  {
   "cell_type": "code",
   "execution_count": 43,
   "metadata": {},
   "outputs": [
    {
     "data": {
      "text/html": [
       "<div>\n",
       "<style scoped>\n",
       "    .dataframe tbody tr th:only-of-type {\n",
       "        vertical-align: middle;\n",
       "    }\n",
       "\n",
       "    .dataframe tbody tr th {\n",
       "        vertical-align: top;\n",
       "    }\n",
       "\n",
       "    .dataframe thead th {\n",
       "        text-align: right;\n",
       "    }\n",
       "</style>\n",
       "<table border=\"1\" class=\"dataframe\">\n",
       "  <thead>\n",
       "    <tr style=\"text-align: right;\">\n",
       "      <th></th>\n",
       "      <th>Valor</th>\n",
       "      <th>Mes</th>\n",
       "      <th>Parada</th>\n",
       "      <th>Peso</th>\n",
       "    </tr>\n",
       "  </thead>\n",
       "  <tbody>\n",
       "    <tr>\n",
       "      <th>0</th>\n",
       "      <td>0.0021</td>\n",
       "      <td>Jan</td>\n",
       "      <td>Índice geral</td>\n",
       "      <td>1.000000</td>\n",
       "    </tr>\n",
       "    <tr>\n",
       "      <th>1</th>\n",
       "      <td>0.0039</td>\n",
       "      <td>Jan</td>\n",
       "      <td>1.Alimentação e bebidas</td>\n",
       "      <td>0.193483</td>\n",
       "    </tr>\n",
       "    <tr>\n",
       "      <th>2</th>\n",
       "      <td>0.0020</td>\n",
       "      <td>Jan</td>\n",
       "      <td>11.Alimentação no domicílio</td>\n",
       "      <td>0.134813</td>\n",
       "    </tr>\n",
       "    <tr>\n",
       "      <th>3</th>\n",
       "      <td>0.0075</td>\n",
       "      <td>Jan</td>\n",
       "      <td>1101.Cereais, leguminosas e oleaginosas</td>\n",
       "      <td>0.006927</td>\n",
       "    </tr>\n",
       "    <tr>\n",
       "      <th>4</th>\n",
       "      <td>0.0131</td>\n",
       "      <td>Jan</td>\n",
       "      <td>1101002.Arroz</td>\n",
       "      <td>0.004753</td>\n",
       "    </tr>\n",
       "  </tbody>\n",
       "</table>\n",
       "</div>"
      ],
      "text/plain": [
       "    Valor  Mes                                   Parada      Peso\n",
       "0  0.0021  Jan                             Índice geral  1.000000\n",
       "1  0.0039  Jan                  1.Alimentação e bebidas  0.193483\n",
       "2  0.0020  Jan              11.Alimentação no domicílio  0.134813\n",
       "3  0.0075  Jan  1101.Cereais, leguminosas e oleaginosas  0.006927\n",
       "4  0.0131  Jan                            1101002.Arroz  0.004753"
      ]
     },
     "execution_count": 43,
     "metadata": {},
     "output_type": "execute_result"
    }
   ],
   "source": [
    "df = pd.merge(ipca, ipca_w, on=['Mes', 'Parada'])\n",
    "df.head()"
   ]
  },
  {
   "cell_type": "code",
   "execution_count": 44,
   "metadata": {},
   "outputs": [
    {
     "data": {
      "text/html": [
       "<div>\n",
       "<style scoped>\n",
       "    .dataframe tbody tr th:only-of-type {\n",
       "        vertical-align: middle;\n",
       "    }\n",
       "\n",
       "    .dataframe tbody tr th {\n",
       "        vertical-align: top;\n",
       "    }\n",
       "\n",
       "    .dataframe thead th {\n",
       "        text-align: right;\n",
       "    }\n",
       "</style>\n",
       "<table border=\"1\" class=\"dataframe\">\n",
       "  <thead>\n",
       "    <tr style=\"text-align: right;\">\n",
       "      <th></th>\n",
       "      <th>Valor</th>\n",
       "      <th>Mes</th>\n",
       "      <th>Parada</th>\n",
       "      <th>Peso</th>\n",
       "      <th>Higher Number</th>\n",
       "    </tr>\n",
       "  </thead>\n",
       "  <tbody>\n",
       "    <tr>\n",
       "      <th>4</th>\n",
       "      <td>0.0131</td>\n",
       "      <td>Jan</td>\n",
       "      <td>1101002.Arroz</td>\n",
       "      <td>0.004753</td>\n",
       "      <td>1101002</td>\n",
       "    </tr>\n",
       "    <tr>\n",
       "      <th>5</th>\n",
       "      <td>0.0450</td>\n",
       "      <td>Jan</td>\n",
       "      <td>1101051.Feijão - mulatinho</td>\n",
       "      <td>0.000116</td>\n",
       "      <td>1101051</td>\n",
       "    </tr>\n",
       "    <tr>\n",
       "      <th>6</th>\n",
       "      <td>-0.0268</td>\n",
       "      <td>Jan</td>\n",
       "      <td>1101052.Feijão - preto</td>\n",
       "      <td>0.000486</td>\n",
       "      <td>1101052</td>\n",
       "    </tr>\n",
       "    <tr>\n",
       "      <th>7</th>\n",
       "      <td>0.0539</td>\n",
       "      <td>Jan</td>\n",
       "      <td>1101053.Feijão - macáçar (fradinho)</td>\n",
       "      <td>0.000121</td>\n",
       "      <td>1101053</td>\n",
       "    </tr>\n",
       "    <tr>\n",
       "      <th>8</th>\n",
       "      <td>-0.0070</td>\n",
       "      <td>Jan</td>\n",
       "      <td>1101073.Feijão - carioca (rajado)</td>\n",
       "      <td>0.001350</td>\n",
       "      <td>1101073</td>\n",
       "    </tr>\n",
       "  </tbody>\n",
       "</table>\n",
       "</div>"
      ],
      "text/plain": [
       "    Valor  Mes                               Parada      Peso  Higher Number\n",
       "4  0.0131  Jan                        1101002.Arroz  0.004753        1101002\n",
       "5  0.0450  Jan           1101051.Feijão - mulatinho  0.000116        1101051\n",
       "6 -0.0268  Jan               1101052.Feijão - preto  0.000486        1101052\n",
       "7  0.0539  Jan  1101053.Feijão - macáçar (fradinho)  0.000121        1101053\n",
       "8 -0.0070  Jan    1101073.Feijão - carioca (rajado)  0.001350        1101073"
      ]
     },
     "execution_count": 44,
     "metadata": {},
     "output_type": "execute_result"
    }
   ],
   "source": [
    "df['Higher Number'] = df['Parada'].str.extract(r'(\\d+)\\.')\n",
    "\n",
    "df['Higher Number'].fillna(0, inplace=True)\n",
    "df['Higher Number'] = df['Higher Number'].astype(int)\n",
    "\n",
    "df =df[df['Higher Number'] > 10000]\n",
    "df.head()"
   ]
  },
  {
   "cell_type": "code",
   "execution_count": 54,
   "metadata": {},
   "outputs": [
    {
     "data": {
      "text/html": [
       "<div>\n",
       "<style scoped>\n",
       "    .dataframe tbody tr th:only-of-type {\n",
       "        vertical-align: middle;\n",
       "    }\n",
       "\n",
       "    .dataframe tbody tr th {\n",
       "        vertical-align: top;\n",
       "    }\n",
       "\n",
       "    .dataframe thead th {\n",
       "        text-align: right;\n",
       "    }\n",
       "</style>\n",
       "<table border=\"1\" class=\"dataframe\">\n",
       "  <thead>\n",
       "    <tr style=\"text-align: right;\">\n",
       "      <th></th>\n",
       "      <th>Valor</th>\n",
       "      <th>Mes</th>\n",
       "      <th>Parada</th>\n",
       "      <th>Peso</th>\n",
       "      <th>Higher Number</th>\n",
       "      <th>Valor_w</th>\n",
       "    </tr>\n",
       "  </thead>\n",
       "  <tbody>\n",
       "    <tr>\n",
       "      <th>2289</th>\n",
       "      <td>0.0274</td>\n",
       "      <td>Jun</td>\n",
       "      <td>1101002.Arroz</td>\n",
       "      <td>0.005244</td>\n",
       "      <td>1101002</td>\n",
       "      <td>0.000144</td>\n",
       "    </tr>\n",
       "    <tr>\n",
       "      <th>2290</th>\n",
       "      <td>0.0710</td>\n",
       "      <td>Jun</td>\n",
       "      <td>1101051.Feijão - mulatinho</td>\n",
       "      <td>0.000145</td>\n",
       "      <td>1101051</td>\n",
       "      <td>0.000010</td>\n",
       "    </tr>\n",
       "    <tr>\n",
       "      <th>2291</th>\n",
       "      <td>0.0675</td>\n",
       "      <td>Jun</td>\n",
       "      <td>1101052.Feijão - preto</td>\n",
       "      <td>0.000583</td>\n",
       "      <td>1101052</td>\n",
       "      <td>0.000039</td>\n",
       "    </tr>\n",
       "    <tr>\n",
       "      <th>2292</th>\n",
       "      <td>0.0288</td>\n",
       "      <td>Jun</td>\n",
       "      <td>1101053.Feijão - macáçar (fradinho)</td>\n",
       "      <td>0.000149</td>\n",
       "      <td>1101053</td>\n",
       "      <td>0.000004</td>\n",
       "    </tr>\n",
       "    <tr>\n",
       "      <th>2293</th>\n",
       "      <td>0.0496</td>\n",
       "      <td>Jun</td>\n",
       "      <td>1101073.Feijão - carioca (rajado)</td>\n",
       "      <td>0.001630</td>\n",
       "      <td>1101073</td>\n",
       "      <td>0.000081</td>\n",
       "    </tr>\n",
       "  </tbody>\n",
       "</table>\n",
       "</div>"
      ],
      "text/plain": [
       "       Valor  Mes                               Parada      Peso  \\\n",
       "2289  0.0274  Jun                        1101002.Arroz  0.005244   \n",
       "2290  0.0710  Jun           1101051.Feijão - mulatinho  0.000145   \n",
       "2291  0.0675  Jun               1101052.Feijão - preto  0.000583   \n",
       "2292  0.0288  Jun  1101053.Feijão - macáçar (fradinho)  0.000149   \n",
       "2293  0.0496  Jun    1101073.Feijão - carioca (rajado)  0.001630   \n",
       "\n",
       "      Higher Number   Valor_w  \n",
       "2289        1101002  0.000144  \n",
       "2290        1101051  0.000010  \n",
       "2291        1101052  0.000039  \n",
       "2292        1101053  0.000004  \n",
       "2293        1101073  0.000081  "
      ]
     },
     "execution_count": 54,
     "metadata": {},
     "output_type": "execute_result"
    }
   ],
   "source": [
    "df['Valor_w'] = df['Valor'] * df['Peso']\n",
    "df = df[df['Mes'] == 'Jun']\n",
    "df.head()"
   ]
  },
  {
   "cell_type": "code",
   "execution_count": 55,
   "metadata": {},
   "outputs": [
    {
     "data": {
      "text/plain": [
       "0.0025998069"
      ]
     },
     "execution_count": 55,
     "metadata": {},
     "output_type": "execute_result"
    }
   ],
   "source": [
    "df['Valor_w'].sum()"
   ]
  },
  {
   "cell_type": "code",
   "execution_count": 57,
   "metadata": {},
   "outputs": [],
   "source": [
    "df_sorted = df.sort_values(by='Valor_w', ascending=False)"
   ]
  },
  {
   "cell_type": "code",
   "execution_count": 60,
   "metadata": {},
   "outputs": [
    {
     "data": {
      "text/html": [
       "<div>\n",
       "<style scoped>\n",
       "    .dataframe tbody tr th:only-of-type {\n",
       "        vertical-align: middle;\n",
       "    }\n",
       "\n",
       "    .dataframe tbody tr th {\n",
       "        vertical-align: top;\n",
       "    }\n",
       "\n",
       "    .dataframe thead th {\n",
       "        text-align: right;\n",
       "    }\n",
       "</style>\n",
       "<table border=\"1\" class=\"dataframe\">\n",
       "  <thead>\n",
       "    <tr style=\"text-align: right;\">\n",
       "      <th></th>\n",
       "      <th>Valor</th>\n",
       "      <th>Mes</th>\n",
       "      <th>Parada</th>\n",
       "      <th>Peso</th>\n",
       "      <th>Higher Number</th>\n",
       "      <th>Valor_w</th>\n",
       "    </tr>\n",
       "  </thead>\n",
       "  <tbody>\n",
       "    <tr>\n",
       "      <th>232</th>\n",
       "      <td>0.0</td>\n",
       "      <td>Jun</td>\n",
       "      <td>7201063.Jogos de azar</td>\n",
       "      <td>0.005344</td>\n",
       "      <td>7201063</td>\n",
       "      <td>0.0</td>\n",
       "    </tr>\n",
       "  </tbody>\n",
       "</table>\n",
       "</div>"
      ],
      "text/plain": [
       "     Valor  Mes                 Parada      Peso  Higher Number  Valor_w\n",
       "232    0.0  Jun  7201063.Jogos de azar  0.005344        7201063      0.0"
      ]
     },
     "execution_count": 60,
     "metadata": {},
     "output_type": "execute_result"
    }
   ],
   "source": [
    "df_sorted.reset_index(drop=True, inplace=True)\n",
    "df_sorted[df_sorted['Parada'] == '7201063.Jogos de azar']"
   ]
  },
  {
   "cell_type": "code",
   "execution_count": 58,
   "metadata": {},
   "outputs": [
    {
     "data": {
      "application/vnd.plotly.v1+json": {
       "config": {
        "plotlyServerURL": "https://plot.ly"
       },
       "data": [
        {
         "orientation": "h",
         "type": "bar",
         "x": [
          "5104001.Gasolina",
          "5104002.Etanol",
          "6203001.Plano de saúde",
          "9101116.Combo de telefonia, internet e tv por assinatura",
          "9101019.Aparelho telefônico",
          "1201003.Lanche",
          "1111004.Leite longa vida",
          "5102011.Conserto de automóvel",
          "3202001.Televisor",
          "2201004.Gás de botijão",
          "1101002.Arroz",
          "3202028.Computador pessoal",
          "6101014.Hipotensor e hipocolesterolêmico",
          "1111011.Queijo",
          "3201001.Refrigerador",
          "5102001.Automóvel novo",
          "1106019.Manga",
          "1107088.Alcatra",
          "1101073.Feijão - carioca (rajado)",
          "7101010.Empregado doméstico",
          "1107084.Contrafilé",
          "3201006.Máquina de lavar roupa",
          "5102004.Emplacamento e licença",
          "5102053.Motocicleta",
          "6101002.Analgésico e antitérmico",
          "3201021.Fogão",
          "1113013.Óleo de soja",
          "2101001.Aluguel residencial",
          "6101011.Hormonal",
          "1116010.Alho",
          "1101052.Feijão - preto",
          "6301001.Produto para cabelo",
          "3301130.Conserto de bicicleta",
          "6101003.Anti-inflamatório e antirreumático",
          "6201003.Dentista",
          "6101006.Dermatológico",
          "2101004.Taxa de água e esgoto",
          "6101009.Gastroprotetor",
          "7201020.Alimento para animais",
          "1107089.Patinho",
          "6301020.Artigos de maquiagem",
          "2103014.Tinta",
          "1106017.Maçã",
          "1109056.Carne-seca e de sol",
          "6101010.Vitamina e fortificante",
          "6101064.Antidiabético",
          "1107093.Músculo",
          "1109008.Linguiça",
          "6101051.Oftalmológico",
          "7101076.Serviço bancário",
          "5102009.Acessórios e peças",
          "6301016.Sabonete",
          "8102008.Livro não didático",
          "6101013.Psicotrópico e anorexígeno",
          "1106018.Mamão",
          "1106001.Banana-da-terra",
          "6101007.Antialérgico e broncodilatador",
          "3103001.Roupa de cama",
          "1112003.Biscoito",
          "1114084.Cerveja",
          "1107009.Fígado",
          "7201019.Bicicleta",
          "1107087.Chã de dentro",
          "6301002.Fralda descartável",
          "3102007.Utensílios de metal",
          "1106015.Limão",
          "4103031.Conjunto infantil",
          "1102023.Farinha de mandioca",
          "1106021.Melancia",
          "1103003.Batata-inglesa",
          "6101001.Anti-infeccioso e antibiótico",
          "7101011.Cabeleireiro e barbeiro",
          "6101004.Antigripal e antitussígeno",
          "4102002.Calça comprida feminina",
          "1106028.Uva",
          "1116005.Atomatado",
          "1107095.Acém",
          "1114022.Café moído",
          "1111009.Leite em pó",
          "1103026.Pimentão",
          "4101002.Calça comprida masculina",
          "1113014.Azeite de oliva",
          "1103020.Abobrinha",
          "1102012.Farinha de trigo",
          "1104032.Sorvete",
          "1107099.Costela",
          "1101051.Feijão - mulatinho",
          "6101148.Neurológico",
          "5101011.Metrô",
          "1103043.Cebola",
          "1102006.Macarrão",
          "6301004.Produto para barba",
          "3201002.Ar-condicionado",
          "1106023.Pera",
          "1113040.Margarina",
          "6201002.Médico",
          "4301004.Relógio de pulso",
          "8102004.Revista",
          "6301015.Absorvente higiênico",
          "4301002.Joia",
          "1107091.Lagarto comum",
          "5104005.Gás veicular",
          "4401001.Tecido",
          "1116071.Tempero misto",
          "1104023.Chocolate em barra e bombom",
          "1201009.Cafezinho",
          "1111021.Requeijão",
          "2104008.Detergente",
          "5102013.Estacionamento",
          "2104009.Sabão em pó",
          "1116033.Maionese",
          "1109007.Salsicha",
          "1106022.Melão",
          "1102061.Macarrão instantâneo",
          "7201010.Instrumento musical",
          "1101053.Feijão - macáçar (fradinho)",
          "4101005.Agasalho masculino",
          "1108031.Peixe - merluza",
          "3201013.Ventilador",
          "5102010.Pneu",
          "8102007.Livro didático",
          "5102007.Óleo lubrificante",
          "1106027.Tangerina",
          "3301088.Conserto de aparelho celular",
          "2103041.Material hidráulico",
          "6202006.Exame de imagem",
          "8104005.Autoescola",
          "1114001.Suco de frutas",
          "1111008.Leite condensado",
          "6301007.Produto para higiene bucal",
          "1114087.Vinho",
          "1103025.Pepino",
          "3101017.Colchão",
          "2103008.Material de eletricidade",
          "8103014.Artigos de papelaria",
          "1104003.Açúcar refinado",
          "2103040.Tijolo",
          "3102035.Flores naturais",
          "2104005.Água sanitária",
          "7201006.Clube",
          "1106006.Banana - maçã",
          "7101144.Sobrancelha",
          "1115039.Sardinha em conserva",
          "1107097.Capa de filé",
          "6201010.Psicólogo",
          "1114091.Chá mate (erva mate)",
          "1106051.Morango",
          "1107018.Carne de porco",
          "5102051.Aluguel de veículo",
          "6301006.Produto para pele",
          "1105012.Cheiro-verde",
          "3102006.Cortina",
          "3202008.Videogame (console)",
          "4102010.Lingerie",
          "1115057.Azeitona",
          "2103038.Madeira e taco",
          "2104041.Papel toalha",
          "2103055.Telha",
          "1115016.Palmito em conserva",
          "1114004.Açaí (emulsão)",
          "1107090.Lagarto redondo",
          "6102012.Óculos de grau",
          "1111031.Manteiga",
          "1115075.Atum em conserva",
          "7101014.Depilação",
          "7101090.Conselho de classe",
          "3202003.Aparelho de som",
          "5104003.Óleo diesel",
          "4201004.Sapato infantil",
          "1116013.Sal",
          "1107094.Pá",
          "3101016.Móvel infantil",
          "4102003.Agasalho feminino",
          "1102008.Fubá de milho",
          "2103012.Vidro",
          "1115013.Alimento infantil",
          "6201005.Aparelho ortodôntico",
          "1108032.Peixe - serra",
          "2103048.Areia",
          "1107081.Cupim",
          "3201050.Chuveiro elétrico",
          "3102337.Utensílios para bebê",
          "3301002.Conserto de refrigerador",
          "7201067.Material de caça e pesca",
          "1108088.Peixe - dourada",
          "1107208.Picanha",
          "1108029.Peixe - cação",
          "7101034.Cartório",
          "1115017.Pepino em conserva",
          "4401002.Artigos de armarinho",
          "1105004.Coentro",
          "1104018.Balas",
          "1115050.Salsicha em conserva",
          "2103039.Cimento",
          "2104016.Esponja de limpeza",
          "4101008.Cueca",
          "1116001.Leite de coco",
          "1103002.Batata-doce",
          "1108092.Peixe - filhote",
          "1108087.Peixe - tambaqui",
          "1108004.Peixe - corvina",
          "1108052.Peixe - palombeta",
          "1108125.Peixe - aruanã",
          "3301015.Conserto de máquina de lavar roupa",
          "1108112.Peixe - pintado",
          "1102001.Farinha de arroz",
          "1108096.Peixe - peroá",
          "1104067.Açúcar demerara",
          "5101001.Ônibus urbano",
          "9101002.Plano de telefonia fixa",
          "8104003.Curso de idioma",
          "5101004.Trem",
          "5102015.Pedágio",
          "5101026.Transporte escolar",
          "1101079.Milho (em grão)",
          "9101008.Plano de telefonia móvel",
          "5101053.Integração transporte público",
          "9101018.Acesso à internet",
          "9101010.Tv por assinatura",
          "8104001.Curso preparatório",
          "9101115.Serviços de streaming",
          "8104004.Curso de informática",
          "5102006.Multa",
          "9101001.Correio",
          "7201054.Casa noturna",
          "7201266.Cinema, teatro e concertos",
          "8101002.Pré-escola",
          "8101004.Ensino médio",
          "8101001.Creche",
          "8101005.Ensino superior",
          "1108072.Peixe - curimatã",
          "8101006.Pós-graduação",
          "7201063.Jogos de azar",
          "1108045.Caranguejo",
          "8101008.Educação de jovens e adultos",
          "8101045.Curso técnico",
          "8102001.Jornal diário",
          "1116023.Caldo de tucupi",
          "8101003.Ensino fundamental",
          "6201007.Fisioterapeuta",
          "1108002.Peixe - anchova",
          "2103049.Pedras",
          "1109058.Carne de porco salgada e defumada",
          "1108049.Peixe - castanha",
          "1108019.Peixe - cavala",
          "1109023.Bacalhau",
          "1116022.Colorau",
          "1201061.Doces",
          "1107031.Carne de carneiro",
          "4102004.Saia",
          "1107085.Filé-mignon",
          "1115056.Sopa desidratada",
          "4201040.Mochila",
          "1108013.Camarão",
          "1106004.Abacate",
          "1114085.Outras bebidas alcoólicas",
          "2201003.Carvão vegetal",
          "1114090.Suco em pó",
          "2104003.Saco para lixo",
          "1103004.Inhame",
          "2104019.Sabão líquido",
          "1108011.Peixe - tainha",
          "3102010.Utensílios de plástico",
          "7101001.Costureira",
          "5101006.Ônibus intermunicipal",
          "1104060.Doce de frutas em pasta",
          "2101012.Mudança",
          "1102010.Flocos de milho",
          "1114003.Polpa de fruta (congelada)",
          "6301010.Produto para unha",
          "4103005.Agasalho infantil",
          "1201051.Outras bebidas alcoólicas",
          "3103003.Roupa de banho",
          "1116048.Caldo concentrado",
          "3301006.Conserto de televisor",
          "1116041.Vinagre",
          "1109012.Salame",
          "4103001.Uniforme escolar",
          "1106020.Maracujá",
          "1116026.Fermento",
          "1201052.Vinho",
          "2103005.Ferragens",
          "1108075.Peixe - salmão",
          "1115058.Milho-verde em conserva",
          "1107096.Peito",
          "1108080.Peixe - tilápia",
          "1111038.Leite fermentado",
          "1105006.Couve-flor",
          "1106084.Goiaba",
          "1106011.Laranja - baía",
          "1108038.Peixe - pescada",
          "1108012.Peixe - sardinha",
          "1114023.Café solúvel",
          "4101009.Camisa/camiseta masculina",
          "5102037.Pintura de veículo",
          "1106012.Laranja - lima",
          "3102009.Utensílios de vidro e louça",
          "3102001.Artigos de iluminação",
          "4201015.Bolsa",
          "1112017.Pão doce",
          "7101036.Despachante",
          "8104006.Atividades físicas",
          "1201048.Cerveja",
          "1104004.Açúcar cristal",
          "2104015.Sabão em barra",
          "1104052.Chocolate e achocolatado em pó",
          "2201005.Gás encanado",
          "3102005.Tapete",
          "1105019.Brócolis",
          "1109010.Mortadela",
          "7201256.Serviço de higiene para animais",
          "4103007.Vestido infantil",
          "6202003.Exame de laboratório",
          "4103008.Bermuda/short infantil",
          "1201088.Sorvete",
          "3301022.Reforma de estofado",
          "4103002.Calça comprida infantil",
          "5102020.Automóvel usado",
          "1112025.Pão de queijo",
          "4301001.Bijuteria",
          "4201002.Sapato masculino",
          "1103005.Mandioca (aipim)",
          "1102029.Massa semipreparada",
          "1106003.Abacaxi",
          "1105005.Couve",
          "2104020.Limpador multiuso",
          "7202041.Cigarro",
          "1110044.Ovo de galinha",
          "8103001.Caderno",
          "5101002.Táxi",
          "1105010.Repolho",
          "6301017.Papel higiênico",
          "4102013.Bermuda/short feminino",
          "2104012.Desinfetante",
          "1112018.Pão de forma",
          "1201007.Refrigerante e água mineral",
          "5101007.Ônibus interestadual",
          "2104085.Amaciante e alvejante",
          "1109002.Presunto",
          "1114083.Refrigerante e água mineral",
          "6202004.Hospitalização e cirurgia",
          "7201015.Tratamento de animais (clínica)",
          "4101006.Bermuda/short masculino",
          "2103042.Mão de obra",
          "1112015.Pão francês",
          "1111019.Iogurte e bebidas lácteas",
          "1105001.Alface",
          "2103032.Revestimento de piso e parede",
          "1112019.Bolo",
          "7101005.Manicure",
          "4201098.Sandália/chinelo",
          "2101002.Condomínio",
          "4201003.Sapato feminino",
          "4201063.Tênis",
          "1110009.Frango inteiro",
          "1201001.Refeição",
          "4103011.Camisa/camiseta infantil",
          "6301014.Desodorante",
          "3101003.Móvel para quarto",
          "7201095.Pacote turístico",
          "1106005.Banana - d'água",
          "3101015.Móvel para copa e cozinha",
          "4102005.Vestido",
          "1106039.Laranja - pera",
          "1103044.Cenoura",
          "1110010.Frango em pedaços",
          "1106008.Banana - prata",
          "3101002.Móvel para sala",
          "7201023.Brinquedo",
          "7201090.Hospedagem",
          "4102008.Blusa",
          "2202003.Energia elétrica residencial",
          "5102005.Seguro voluntário de veículo",
          "5101051.Transporte por aplicativo",
          "6301011.Perfume",
          "1103028.Tomate",
          "5101010.Passagem aérea"
         ],
         "y": [
          0.0014272848000000003,
          0.0003163888,
          0.000248916,
          0.0002455632,
          0.00018362480000000002,
          0.000174528,
          0.00015911569999999998,
          0.00015652,
          0.0001538238,
          0.00015132119999999998,
          0.0001436856,
          0.000143601,
          0.00011971789999999997,
          0.0001188416,
          0.0001090532,
          0.00010866599999999999,
          0.00009598020000000001,
          0.00008363799999999999,
          0.00008084800000000001,
          0.0000796875,
          0.000073834,
          0.00007277660000000001,
          0.00007221,
          0.00006666240000000001,
          0.00006140520000000001,
          0.00005369340000000001,
          0.00004660890000000001,
          0.000045800399999999996,
          0.000042179400000000005,
          0.000039666800000000004,
          0.0000393525,
          0.000038418,
          0.000037392,
          0.000035568500000000003,
          0.0000338373,
          0.0000335544,
          0.0000330606,
          0.000032725,
          0.0000321315,
          0.00003182180000000001,
          0.0000318136,
          0.0000314588,
          0.0000311304,
          0.0000306534,
          0.000030257500000000003,
          0.0000282898,
          0.0000276224,
          0.0000243399,
          0.000023368099999999997,
          0.000021987599999999996,
          0.000021516,
          0.0000212688,
          0.000020979000000000004,
          0.000020782800000000004,
          0.0000202259,
          0.000019158,
          0.000018917600000000003,
          0.0000186298,
          0.000017860000000000002,
          0.000017754000000000003,
          0.0000175314,
          0.0000173016,
          0.000017003699999999998,
          0.0000169632,
          0.0000166566,
          0.000016616999999999997,
          0.0000164836,
          0.0000160528,
          0.000016012799999999997,
          0.0000157365,
          0.0000155545,
          0.000015065400000000001,
          0.000014835000000000001,
          0.000014660199999999999,
          0.000014611499999999999,
          0.000014162499999999999,
          0.0000141305,
          0.000013770999999999997,
          0.000013766400000000001,
          0.000012884300000000001,
          0.0000125454,
          0.0000123,
          0.000012214799999999999,
          0.000011476999999999999,
          0.0000112812,
          0.000010437900000000002,
          0.000010294999999999999,
          0.0000102144,
          0.000010038599999999999,
          0.000009955,
          0.000009895900000000001,
          0.0000095708,
          0.000009014599999999998,
          0.0000089217,
          0.0000088173,
          0.0000084735,
          0.0000083905,
          0.0000083768,
          0.0000071936,
          0.000006847899999999998,
          0.0000064684,
          0.0000060903,
          0.000005921100000000001,
          0.000005820600000000001,
          0.000005722599999999999,
          0.0000054272,
          0.000005366399999999999,
          0.0000051272,
          0.0000050468000000000005,
          0.0000050292,
          0.0000047736,
          0.000004452,
          0.000004452,
          0.000004438800000000001,
          0.000004360199999999999,
          0.0000042912,
          0.000004255000000000001,
          0.000004233,
          0.0000040734,
          0.00000406,
          0.000003994,
          0.0000039587,
          0.000003542,
          0.0000035411999999999997,
          0.0000035308,
          0.0000035049999999999995,
          0.0000034438000000000004,
          0.0000034372,
          0.0000033233999999999994,
          0.0000031871999999999997,
          0.0000031635000000000007,
          0.0000031349,
          0.0000028274,
          0.0000028268,
          0.0000027660000000000003,
          0.0000027390000000000004,
          0.0000026499,
          0.0000026416,
          0.0000025840000000000006,
          0.0000024929999999999997,
          0.0000024682,
          0.0000023310000000000002,
          0.0000022456,
          0.000002223,
          0.0000022183999999999994,
          0.0000020929999999999997,
          0.00000194,
          0.0000019098,
          0.0000016192,
          0.0000015752,
          0.0000014816000000000001,
          0.0000012181,
          0.000001134,
          0.00000112,
          0.0000010725,
          0.0000010488,
          0.0000010105000000000001,
          0.0000010036,
          0.000001001,
          9.086000000000001e-7,
          8.960000000000002e-7,
          8.888999999999999e-7,
          8.148000000000002e-7,
          7.992000000000001e-7,
          7.852e-7,
          7.396999999999999e-7,
          7.308e-7,
          6.852000000000001e-7,
          6.6e-7,
          6.192e-7,
          6.054000000000001e-7,
          5.94e-7,
          5.377e-7,
          5.124e-7,
          4.83e-7,
          4.768999999999999e-7,
          4.4849999999999997e-7,
          4.4159999999999993e-7,
          4.2779999999999995e-7,
          4.1400000000000003e-7,
          4.14e-7,
          4.125e-7,
          3.772e-7,
          3.6660000000000007e-7,
          3.375e-7,
          3.312e-7,
          2.881e-7,
          2.6999999999999996e-7,
          2.451e-7,
          2.4e-7,
          2.3749999999999998e-7,
          2.3240000000000002e-7,
          2.236e-7,
          2.214e-7,
          2.173e-7,
          1.7279999999999999e-7,
          1.596e-7,
          1.5959999999999997e-7,
          1.406e-7,
          1.3559999999999997e-7,
          1.1650000000000002e-7,
          1e-7,
          9.720000000000001e-8,
          7.990000000000001e-8,
          3.52e-8,
          3.3599999999999996e-8,
          2.66e-8,
          1.2e-8,
          0,
          0,
          0,
          0,
          0,
          0,
          0,
          0,
          0,
          0,
          0,
          0,
          0,
          0,
          0,
          0,
          0,
          0,
          0,
          0,
          0,
          0,
          0,
          0,
          0,
          0,
          0,
          0,
          0,
          0,
          0,
          -2.6399999999999998e-8,
          -2.819999999999999e-8,
          -3.1e-8,
          -3.3599999999999996e-8,
          -4.7e-8,
          -5.7600000000000006e-8,
          -6.930000000000002e-8,
          -7.840000000000001e-8,
          -8.28e-8,
          -1.1519999999999997e-7,
          -1.1519999999999997e-7,
          -1.175e-7,
          -1.349e-7,
          -1.536e-7,
          -1.842e-7,
          -1.918e-7,
          -2.088e-7,
          -2.36e-7,
          -2.4850000000000003e-7,
          -2.538e-7,
          -2.805e-7,
          -2.958e-7,
          -3.1050000000000003e-7,
          -3.88e-7,
          -4.128e-7,
          -4.3740000000000004e-7,
          -5.025000000000001e-7,
          -5.967999999999999e-7,
          -6.018000000000001e-7,
          -6.383999999999999e-7,
          -6.52e-7,
          -6.66e-7,
          -6.688000000000001e-7,
          -6.750000000000001e-7,
          -7.103999999999999e-7,
          -7.581e-7,
          -7.727999999999999e-7,
          -8.264999999999999e-7,
          -8.620000000000001e-7,
          -9.200000000000001e-7,
          -9.322e-7,
          -9.36e-7,
          -0.0000010028,
          -0.0000010125999999999998,
          -0.0000010138,
          -0.0000011437999999999997,
          -0.0000012200000000000002,
          -0.000001221,
          -0.0000013081999999999998,
          -0.0000014351999999999998,
          -0.0000015004,
          -0.0000015181,
          -0.0000016626,
          -0.0000016878,
          -0.0000017300999999999997,
          -0.0000017730999999999998,
          -0.0000018245000000000003,
          -0.0000018539999999999997,
          -0.0000018975,
          -0.000001953,
          -0.0000020448,
          -0.0000020454,
          -0.0000020615,
          -0.0000020965,
          -0.0000021777,
          -0.0000022124999999999996,
          -0.0000022722,
          -0.0000024084,
          -0.0000024414000000000005,
          -0.0000025024,
          -0.00000258,
          -0.000002868,
          -0.0000028850000000000003,
          -0.0000030672000000000005,
          -0.0000031460000000000005,
          -0.0000034612000000000004,
          -0.0000035150000000000002,
          -0.0000036336000000000002,
          -0.0000038058000000000005,
          -0.0000038634,
          -0.000003924800000000001,
          -0.0000041256,
          -0.0000044394,
          -0.0000044659,
          -0.0000045854,
          -0.000004637500000000001,
          -0.0000047971999999999996,
          -0.0000049059,
          -0.0000065493999999999995,
          -0.000007155000000000001,
          -0.000007164499999999998,
          -0.0000076160000000000004,
          -0.0000091203,
          -0.000009397600000000001,
          -0.000009438,
          -0.000010324800000000002,
          -0.0000108035,
          -0.000010996800000000001,
          -0.0000114444,
          -0.000012051599999999998,
          -0.000012127199999999998,
          -0.0000125037,
          -0.000013518000000000002,
          -0.0000135289,
          -0.000014271599999999999,
          -0.000016156,
          -0.000016253300000000002,
          -0.0000164501,
          -0.0000170625,
          -0.000017146200000000002,
          -0.000019233599999999998,
          -0.0000201858,
          -0.000021156299999999996,
          -0.000022445100000000003,
          -0.000023505499999999997,
          -0.000024363900000000002,
          -0.000026227600000000006,
          -0.0000310284,
          -0.0000337958,
          -0.000034032600000000003,
          -0.00003696,
          -0.000039062399999999994,
          -0.000041742799999999996,
          -0.000045028200000000004,
          -0.00004542580000000001,
          -0.00006109440000000001,
          -0.00006292670000000001,
          -0.00006443,
          -0.0000656884,
          -0.0000732025,
          -0.0000737884,
          -0.000091848,
          -0.0001459688,
          -0.00017977500000000002,
          -0.00029169449999999996,
          -0.0003724864000000001,
          -0.00038081279999999996,
          -0.0010973619
         ]
        }
       ],
       "layout": {
        "template": {
         "data": {
          "bar": [
           {
            "error_x": {
             "color": "#2a3f5f"
            },
            "error_y": {
             "color": "#2a3f5f"
            },
            "marker": {
             "line": {
              "color": "#E5ECF6",
              "width": 0.5
             },
             "pattern": {
              "fillmode": "overlay",
              "size": 10,
              "solidity": 0.2
             }
            },
            "type": "bar"
           }
          ],
          "barpolar": [
           {
            "marker": {
             "line": {
              "color": "#E5ECF6",
              "width": 0.5
             },
             "pattern": {
              "fillmode": "overlay",
              "size": 10,
              "solidity": 0.2
             }
            },
            "type": "barpolar"
           }
          ],
          "carpet": [
           {
            "aaxis": {
             "endlinecolor": "#2a3f5f",
             "gridcolor": "white",
             "linecolor": "white",
             "minorgridcolor": "white",
             "startlinecolor": "#2a3f5f"
            },
            "baxis": {
             "endlinecolor": "#2a3f5f",
             "gridcolor": "white",
             "linecolor": "white",
             "minorgridcolor": "white",
             "startlinecolor": "#2a3f5f"
            },
            "type": "carpet"
           }
          ],
          "choropleth": [
           {
            "colorbar": {
             "outlinewidth": 0,
             "ticks": ""
            },
            "type": "choropleth"
           }
          ],
          "contour": [
           {
            "colorbar": {
             "outlinewidth": 0,
             "ticks": ""
            },
            "colorscale": [
             [
              0,
              "#0d0887"
             ],
             [
              0.1111111111111111,
              "#46039f"
             ],
             [
              0.2222222222222222,
              "#7201a8"
             ],
             [
              0.3333333333333333,
              "#9c179e"
             ],
             [
              0.4444444444444444,
              "#bd3786"
             ],
             [
              0.5555555555555556,
              "#d8576b"
             ],
             [
              0.6666666666666666,
              "#ed7953"
             ],
             [
              0.7777777777777778,
              "#fb9f3a"
             ],
             [
              0.8888888888888888,
              "#fdca26"
             ],
             [
              1,
              "#f0f921"
             ]
            ],
            "type": "contour"
           }
          ],
          "contourcarpet": [
           {
            "colorbar": {
             "outlinewidth": 0,
             "ticks": ""
            },
            "type": "contourcarpet"
           }
          ],
          "heatmap": [
           {
            "colorbar": {
             "outlinewidth": 0,
             "ticks": ""
            },
            "colorscale": [
             [
              0,
              "#0d0887"
             ],
             [
              0.1111111111111111,
              "#46039f"
             ],
             [
              0.2222222222222222,
              "#7201a8"
             ],
             [
              0.3333333333333333,
              "#9c179e"
             ],
             [
              0.4444444444444444,
              "#bd3786"
             ],
             [
              0.5555555555555556,
              "#d8576b"
             ],
             [
              0.6666666666666666,
              "#ed7953"
             ],
             [
              0.7777777777777778,
              "#fb9f3a"
             ],
             [
              0.8888888888888888,
              "#fdca26"
             ],
             [
              1,
              "#f0f921"
             ]
            ],
            "type": "heatmap"
           }
          ],
          "heatmapgl": [
           {
            "colorbar": {
             "outlinewidth": 0,
             "ticks": ""
            },
            "colorscale": [
             [
              0,
              "#0d0887"
             ],
             [
              0.1111111111111111,
              "#46039f"
             ],
             [
              0.2222222222222222,
              "#7201a8"
             ],
             [
              0.3333333333333333,
              "#9c179e"
             ],
             [
              0.4444444444444444,
              "#bd3786"
             ],
             [
              0.5555555555555556,
              "#d8576b"
             ],
             [
              0.6666666666666666,
              "#ed7953"
             ],
             [
              0.7777777777777778,
              "#fb9f3a"
             ],
             [
              0.8888888888888888,
              "#fdca26"
             ],
             [
              1,
              "#f0f921"
             ]
            ],
            "type": "heatmapgl"
           }
          ],
          "histogram": [
           {
            "marker": {
             "pattern": {
              "fillmode": "overlay",
              "size": 10,
              "solidity": 0.2
             }
            },
            "type": "histogram"
           }
          ],
          "histogram2d": [
           {
            "colorbar": {
             "outlinewidth": 0,
             "ticks": ""
            },
            "colorscale": [
             [
              0,
              "#0d0887"
             ],
             [
              0.1111111111111111,
              "#46039f"
             ],
             [
              0.2222222222222222,
              "#7201a8"
             ],
             [
              0.3333333333333333,
              "#9c179e"
             ],
             [
              0.4444444444444444,
              "#bd3786"
             ],
             [
              0.5555555555555556,
              "#d8576b"
             ],
             [
              0.6666666666666666,
              "#ed7953"
             ],
             [
              0.7777777777777778,
              "#fb9f3a"
             ],
             [
              0.8888888888888888,
              "#fdca26"
             ],
             [
              1,
              "#f0f921"
             ]
            ],
            "type": "histogram2d"
           }
          ],
          "histogram2dcontour": [
           {
            "colorbar": {
             "outlinewidth": 0,
             "ticks": ""
            },
            "colorscale": [
             [
              0,
              "#0d0887"
             ],
             [
              0.1111111111111111,
              "#46039f"
             ],
             [
              0.2222222222222222,
              "#7201a8"
             ],
             [
              0.3333333333333333,
              "#9c179e"
             ],
             [
              0.4444444444444444,
              "#bd3786"
             ],
             [
              0.5555555555555556,
              "#d8576b"
             ],
             [
              0.6666666666666666,
              "#ed7953"
             ],
             [
              0.7777777777777778,
              "#fb9f3a"
             ],
             [
              0.8888888888888888,
              "#fdca26"
             ],
             [
              1,
              "#f0f921"
             ]
            ],
            "type": "histogram2dcontour"
           }
          ],
          "mesh3d": [
           {
            "colorbar": {
             "outlinewidth": 0,
             "ticks": ""
            },
            "type": "mesh3d"
           }
          ],
          "parcoords": [
           {
            "line": {
             "colorbar": {
              "outlinewidth": 0,
              "ticks": ""
             }
            },
            "type": "parcoords"
           }
          ],
          "pie": [
           {
            "automargin": true,
            "type": "pie"
           }
          ],
          "scatter": [
           {
            "fillpattern": {
             "fillmode": "overlay",
             "size": 10,
             "solidity": 0.2
            },
            "type": "scatter"
           }
          ],
          "scatter3d": [
           {
            "line": {
             "colorbar": {
              "outlinewidth": 0,
              "ticks": ""
             }
            },
            "marker": {
             "colorbar": {
              "outlinewidth": 0,
              "ticks": ""
             }
            },
            "type": "scatter3d"
           }
          ],
          "scattercarpet": [
           {
            "marker": {
             "colorbar": {
              "outlinewidth": 0,
              "ticks": ""
             }
            },
            "type": "scattercarpet"
           }
          ],
          "scattergeo": [
           {
            "marker": {
             "colorbar": {
              "outlinewidth": 0,
              "ticks": ""
             }
            },
            "type": "scattergeo"
           }
          ],
          "scattergl": [
           {
            "marker": {
             "colorbar": {
              "outlinewidth": 0,
              "ticks": ""
             }
            },
            "type": "scattergl"
           }
          ],
          "scattermapbox": [
           {
            "marker": {
             "colorbar": {
              "outlinewidth": 0,
              "ticks": ""
             }
            },
            "type": "scattermapbox"
           }
          ],
          "scatterpolar": [
           {
            "marker": {
             "colorbar": {
              "outlinewidth": 0,
              "ticks": ""
             }
            },
            "type": "scatterpolar"
           }
          ],
          "scatterpolargl": [
           {
            "marker": {
             "colorbar": {
              "outlinewidth": 0,
              "ticks": ""
             }
            },
            "type": "scatterpolargl"
           }
          ],
          "scatterternary": [
           {
            "marker": {
             "colorbar": {
              "outlinewidth": 0,
              "ticks": ""
             }
            },
            "type": "scatterternary"
           }
          ],
          "surface": [
           {
            "colorbar": {
             "outlinewidth": 0,
             "ticks": ""
            },
            "colorscale": [
             [
              0,
              "#0d0887"
             ],
             [
              0.1111111111111111,
              "#46039f"
             ],
             [
              0.2222222222222222,
              "#7201a8"
             ],
             [
              0.3333333333333333,
              "#9c179e"
             ],
             [
              0.4444444444444444,
              "#bd3786"
             ],
             [
              0.5555555555555556,
              "#d8576b"
             ],
             [
              0.6666666666666666,
              "#ed7953"
             ],
             [
              0.7777777777777778,
              "#fb9f3a"
             ],
             [
              0.8888888888888888,
              "#fdca26"
             ],
             [
              1,
              "#f0f921"
             ]
            ],
            "type": "surface"
           }
          ],
          "table": [
           {
            "cells": {
             "fill": {
              "color": "#EBF0F8"
             },
             "line": {
              "color": "white"
             }
            },
            "header": {
             "fill": {
              "color": "#C8D4E3"
             },
             "line": {
              "color": "white"
             }
            },
            "type": "table"
           }
          ]
         },
         "layout": {
          "annotationdefaults": {
           "arrowcolor": "#2a3f5f",
           "arrowhead": 0,
           "arrowwidth": 1
          },
          "autotypenumbers": "strict",
          "coloraxis": {
           "colorbar": {
            "outlinewidth": 0,
            "ticks": ""
           }
          },
          "colorscale": {
           "diverging": [
            [
             0,
             "#8e0152"
            ],
            [
             0.1,
             "#c51b7d"
            ],
            [
             0.2,
             "#de77ae"
            ],
            [
             0.3,
             "#f1b6da"
            ],
            [
             0.4,
             "#fde0ef"
            ],
            [
             0.5,
             "#f7f7f7"
            ],
            [
             0.6,
             "#e6f5d0"
            ],
            [
             0.7,
             "#b8e186"
            ],
            [
             0.8,
             "#7fbc41"
            ],
            [
             0.9,
             "#4d9221"
            ],
            [
             1,
             "#276419"
            ]
           ],
           "sequential": [
            [
             0,
             "#0d0887"
            ],
            [
             0.1111111111111111,
             "#46039f"
            ],
            [
             0.2222222222222222,
             "#7201a8"
            ],
            [
             0.3333333333333333,
             "#9c179e"
            ],
            [
             0.4444444444444444,
             "#bd3786"
            ],
            [
             0.5555555555555556,
             "#d8576b"
            ],
            [
             0.6666666666666666,
             "#ed7953"
            ],
            [
             0.7777777777777778,
             "#fb9f3a"
            ],
            [
             0.8888888888888888,
             "#fdca26"
            ],
            [
             1,
             "#f0f921"
            ]
           ],
           "sequentialminus": [
            [
             0,
             "#0d0887"
            ],
            [
             0.1111111111111111,
             "#46039f"
            ],
            [
             0.2222222222222222,
             "#7201a8"
            ],
            [
             0.3333333333333333,
             "#9c179e"
            ],
            [
             0.4444444444444444,
             "#bd3786"
            ],
            [
             0.5555555555555556,
             "#d8576b"
            ],
            [
             0.6666666666666666,
             "#ed7953"
            ],
            [
             0.7777777777777778,
             "#fb9f3a"
            ],
            [
             0.8888888888888888,
             "#fdca26"
            ],
            [
             1,
             "#f0f921"
            ]
           ]
          },
          "colorway": [
           "#636efa",
           "#EF553B",
           "#00cc96",
           "#ab63fa",
           "#FFA15A",
           "#19d3f3",
           "#FF6692",
           "#B6E880",
           "#FF97FF",
           "#FECB52"
          ],
          "font": {
           "color": "#2a3f5f"
          },
          "geo": {
           "bgcolor": "white",
           "lakecolor": "white",
           "landcolor": "#E5ECF6",
           "showlakes": true,
           "showland": true,
           "subunitcolor": "white"
          },
          "hoverlabel": {
           "align": "left"
          },
          "hovermode": "closest",
          "mapbox": {
           "style": "light"
          },
          "paper_bgcolor": "white",
          "plot_bgcolor": "#E5ECF6",
          "polar": {
           "angularaxis": {
            "gridcolor": "white",
            "linecolor": "white",
            "ticks": ""
           },
           "bgcolor": "#E5ECF6",
           "radialaxis": {
            "gridcolor": "white",
            "linecolor": "white",
            "ticks": ""
           }
          },
          "scene": {
           "xaxis": {
            "backgroundcolor": "#E5ECF6",
            "gridcolor": "white",
            "gridwidth": 2,
            "linecolor": "white",
            "showbackground": true,
            "ticks": "",
            "zerolinecolor": "white"
           },
           "yaxis": {
            "backgroundcolor": "#E5ECF6",
            "gridcolor": "white",
            "gridwidth": 2,
            "linecolor": "white",
            "showbackground": true,
            "ticks": "",
            "zerolinecolor": "white"
           },
           "zaxis": {
            "backgroundcolor": "#E5ECF6",
            "gridcolor": "white",
            "gridwidth": 2,
            "linecolor": "white",
            "showbackground": true,
            "ticks": "",
            "zerolinecolor": "white"
           }
          },
          "shapedefaults": {
           "line": {
            "color": "#2a3f5f"
           }
          },
          "ternary": {
           "aaxis": {
            "gridcolor": "white",
            "linecolor": "white",
            "ticks": ""
           },
           "baxis": {
            "gridcolor": "white",
            "linecolor": "white",
            "ticks": ""
           },
           "bgcolor": "#E5ECF6",
           "caxis": {
            "gridcolor": "white",
            "linecolor": "white",
            "ticks": ""
           }
          },
          "title": {
           "x": 0.05
          },
          "xaxis": {
           "automargin": true,
           "gridcolor": "white",
           "linecolor": "white",
           "ticks": "",
           "title": {
            "standoff": 15
           },
           "zerolinecolor": "white",
           "zerolinewidth": 2
          },
          "yaxis": {
           "automargin": true,
           "gridcolor": "white",
           "linecolor": "white",
           "ticks": "",
           "title": {
            "standoff": 15
           },
           "zerolinecolor": "white",
           "zerolinewidth": 2
          }
         }
        },
        "title": {
         "text": "Horizontal Bar Graph"
        },
        "xaxis": {
         "title": {
          "text": "Itens"
         }
        },
        "yaxis": {
         "title": {
          "text": "Valor"
         }
        }
       }
      }
     },
     "metadata": {},
     "output_type": "display_data"
    }
   ],
   "source": [
    "fig = go.Figure(go.Bar(\n",
    "    x=list(df_sorted['Parada'].values),\n",
    "    y=list(df_sorted['Valor_w'].values),\n",
    "    orientation='h'\n",
    "))\n",
    "\n",
    "# Update layout to adjust the appearance\n",
    "fig.update_layout(\n",
    "    title='Horizontal Bar Graph',\n",
    "    xaxis_title='Itens',\n",
    "    yaxis_title='Valor',\n",
    ")\n",
    "\n",
    "# Show the plot\n",
    "fig.show()"
   ]
  },
  {
   "cell_type": "code",
   "execution_count": 49,
   "metadata": {},
   "outputs": [
    {
     "data": {
      "application/vnd.plotly.v1+json": {
       "config": {
        "plotlyServerURL": "https://plot.ly"
       },
       "data": [
        {
         "orientation": "h",
         "type": "bar",
         "x": [
          30,
          45,
          60,
          20
         ],
         "y": [
          "Category A",
          "Category B",
          "Category C",
          "Category D"
         ]
        }
       ],
       "layout": {
        "template": {
         "data": {
          "bar": [
           {
            "error_x": {
             "color": "#2a3f5f"
            },
            "error_y": {
             "color": "#2a3f5f"
            },
            "marker": {
             "line": {
              "color": "#E5ECF6",
              "width": 0.5
             },
             "pattern": {
              "fillmode": "overlay",
              "size": 10,
              "solidity": 0.2
             }
            },
            "type": "bar"
           }
          ],
          "barpolar": [
           {
            "marker": {
             "line": {
              "color": "#E5ECF6",
              "width": 0.5
             },
             "pattern": {
              "fillmode": "overlay",
              "size": 10,
              "solidity": 0.2
             }
            },
            "type": "barpolar"
           }
          ],
          "carpet": [
           {
            "aaxis": {
             "endlinecolor": "#2a3f5f",
             "gridcolor": "white",
             "linecolor": "white",
             "minorgridcolor": "white",
             "startlinecolor": "#2a3f5f"
            },
            "baxis": {
             "endlinecolor": "#2a3f5f",
             "gridcolor": "white",
             "linecolor": "white",
             "minorgridcolor": "white",
             "startlinecolor": "#2a3f5f"
            },
            "type": "carpet"
           }
          ],
          "choropleth": [
           {
            "colorbar": {
             "outlinewidth": 0,
             "ticks": ""
            },
            "type": "choropleth"
           }
          ],
          "contour": [
           {
            "colorbar": {
             "outlinewidth": 0,
             "ticks": ""
            },
            "colorscale": [
             [
              0,
              "#0d0887"
             ],
             [
              0.1111111111111111,
              "#46039f"
             ],
             [
              0.2222222222222222,
              "#7201a8"
             ],
             [
              0.3333333333333333,
              "#9c179e"
             ],
             [
              0.4444444444444444,
              "#bd3786"
             ],
             [
              0.5555555555555556,
              "#d8576b"
             ],
             [
              0.6666666666666666,
              "#ed7953"
             ],
             [
              0.7777777777777778,
              "#fb9f3a"
             ],
             [
              0.8888888888888888,
              "#fdca26"
             ],
             [
              1,
              "#f0f921"
             ]
            ],
            "type": "contour"
           }
          ],
          "contourcarpet": [
           {
            "colorbar": {
             "outlinewidth": 0,
             "ticks": ""
            },
            "type": "contourcarpet"
           }
          ],
          "heatmap": [
           {
            "colorbar": {
             "outlinewidth": 0,
             "ticks": ""
            },
            "colorscale": [
             [
              0,
              "#0d0887"
             ],
             [
              0.1111111111111111,
              "#46039f"
             ],
             [
              0.2222222222222222,
              "#7201a8"
             ],
             [
              0.3333333333333333,
              "#9c179e"
             ],
             [
              0.4444444444444444,
              "#bd3786"
             ],
             [
              0.5555555555555556,
              "#d8576b"
             ],
             [
              0.6666666666666666,
              "#ed7953"
             ],
             [
              0.7777777777777778,
              "#fb9f3a"
             ],
             [
              0.8888888888888888,
              "#fdca26"
             ],
             [
              1,
              "#f0f921"
             ]
            ],
            "type": "heatmap"
           }
          ],
          "heatmapgl": [
           {
            "colorbar": {
             "outlinewidth": 0,
             "ticks": ""
            },
            "colorscale": [
             [
              0,
              "#0d0887"
             ],
             [
              0.1111111111111111,
              "#46039f"
             ],
             [
              0.2222222222222222,
              "#7201a8"
             ],
             [
              0.3333333333333333,
              "#9c179e"
             ],
             [
              0.4444444444444444,
              "#bd3786"
             ],
             [
              0.5555555555555556,
              "#d8576b"
             ],
             [
              0.6666666666666666,
              "#ed7953"
             ],
             [
              0.7777777777777778,
              "#fb9f3a"
             ],
             [
              0.8888888888888888,
              "#fdca26"
             ],
             [
              1,
              "#f0f921"
             ]
            ],
            "type": "heatmapgl"
           }
          ],
          "histogram": [
           {
            "marker": {
             "pattern": {
              "fillmode": "overlay",
              "size": 10,
              "solidity": 0.2
             }
            },
            "type": "histogram"
           }
          ],
          "histogram2d": [
           {
            "colorbar": {
             "outlinewidth": 0,
             "ticks": ""
            },
            "colorscale": [
             [
              0,
              "#0d0887"
             ],
             [
              0.1111111111111111,
              "#46039f"
             ],
             [
              0.2222222222222222,
              "#7201a8"
             ],
             [
              0.3333333333333333,
              "#9c179e"
             ],
             [
              0.4444444444444444,
              "#bd3786"
             ],
             [
              0.5555555555555556,
              "#d8576b"
             ],
             [
              0.6666666666666666,
              "#ed7953"
             ],
             [
              0.7777777777777778,
              "#fb9f3a"
             ],
             [
              0.8888888888888888,
              "#fdca26"
             ],
             [
              1,
              "#f0f921"
             ]
            ],
            "type": "histogram2d"
           }
          ],
          "histogram2dcontour": [
           {
            "colorbar": {
             "outlinewidth": 0,
             "ticks": ""
            },
            "colorscale": [
             [
              0,
              "#0d0887"
             ],
             [
              0.1111111111111111,
              "#46039f"
             ],
             [
              0.2222222222222222,
              "#7201a8"
             ],
             [
              0.3333333333333333,
              "#9c179e"
             ],
             [
              0.4444444444444444,
              "#bd3786"
             ],
             [
              0.5555555555555556,
              "#d8576b"
             ],
             [
              0.6666666666666666,
              "#ed7953"
             ],
             [
              0.7777777777777778,
              "#fb9f3a"
             ],
             [
              0.8888888888888888,
              "#fdca26"
             ],
             [
              1,
              "#f0f921"
             ]
            ],
            "type": "histogram2dcontour"
           }
          ],
          "mesh3d": [
           {
            "colorbar": {
             "outlinewidth": 0,
             "ticks": ""
            },
            "type": "mesh3d"
           }
          ],
          "parcoords": [
           {
            "line": {
             "colorbar": {
              "outlinewidth": 0,
              "ticks": ""
             }
            },
            "type": "parcoords"
           }
          ],
          "pie": [
           {
            "automargin": true,
            "type": "pie"
           }
          ],
          "scatter": [
           {
            "fillpattern": {
             "fillmode": "overlay",
             "size": 10,
             "solidity": 0.2
            },
            "type": "scatter"
           }
          ],
          "scatter3d": [
           {
            "line": {
             "colorbar": {
              "outlinewidth": 0,
              "ticks": ""
             }
            },
            "marker": {
             "colorbar": {
              "outlinewidth": 0,
              "ticks": ""
             }
            },
            "type": "scatter3d"
           }
          ],
          "scattercarpet": [
           {
            "marker": {
             "colorbar": {
              "outlinewidth": 0,
              "ticks": ""
             }
            },
            "type": "scattercarpet"
           }
          ],
          "scattergeo": [
           {
            "marker": {
             "colorbar": {
              "outlinewidth": 0,
              "ticks": ""
             }
            },
            "type": "scattergeo"
           }
          ],
          "scattergl": [
           {
            "marker": {
             "colorbar": {
              "outlinewidth": 0,
              "ticks": ""
             }
            },
            "type": "scattergl"
           }
          ],
          "scattermapbox": [
           {
            "marker": {
             "colorbar": {
              "outlinewidth": 0,
              "ticks": ""
             }
            },
            "type": "scattermapbox"
           }
          ],
          "scatterpolar": [
           {
            "marker": {
             "colorbar": {
              "outlinewidth": 0,
              "ticks": ""
             }
            },
            "type": "scatterpolar"
           }
          ],
          "scatterpolargl": [
           {
            "marker": {
             "colorbar": {
              "outlinewidth": 0,
              "ticks": ""
             }
            },
            "type": "scatterpolargl"
           }
          ],
          "scatterternary": [
           {
            "marker": {
             "colorbar": {
              "outlinewidth": 0,
              "ticks": ""
             }
            },
            "type": "scatterternary"
           }
          ],
          "surface": [
           {
            "colorbar": {
             "outlinewidth": 0,
             "ticks": ""
            },
            "colorscale": [
             [
              0,
              "#0d0887"
             ],
             [
              0.1111111111111111,
              "#46039f"
             ],
             [
              0.2222222222222222,
              "#7201a8"
             ],
             [
              0.3333333333333333,
              "#9c179e"
             ],
             [
              0.4444444444444444,
              "#bd3786"
             ],
             [
              0.5555555555555556,
              "#d8576b"
             ],
             [
              0.6666666666666666,
              "#ed7953"
             ],
             [
              0.7777777777777778,
              "#fb9f3a"
             ],
             [
              0.8888888888888888,
              "#fdca26"
             ],
             [
              1,
              "#f0f921"
             ]
            ],
            "type": "surface"
           }
          ],
          "table": [
           {
            "cells": {
             "fill": {
              "color": "#EBF0F8"
             },
             "line": {
              "color": "white"
             }
            },
            "header": {
             "fill": {
              "color": "#C8D4E3"
             },
             "line": {
              "color": "white"
             }
            },
            "type": "table"
           }
          ]
         },
         "layout": {
          "annotationdefaults": {
           "arrowcolor": "#2a3f5f",
           "arrowhead": 0,
           "arrowwidth": 1
          },
          "autotypenumbers": "strict",
          "coloraxis": {
           "colorbar": {
            "outlinewidth": 0,
            "ticks": ""
           }
          },
          "colorscale": {
           "diverging": [
            [
             0,
             "#8e0152"
            ],
            [
             0.1,
             "#c51b7d"
            ],
            [
             0.2,
             "#de77ae"
            ],
            [
             0.3,
             "#f1b6da"
            ],
            [
             0.4,
             "#fde0ef"
            ],
            [
             0.5,
             "#f7f7f7"
            ],
            [
             0.6,
             "#e6f5d0"
            ],
            [
             0.7,
             "#b8e186"
            ],
            [
             0.8,
             "#7fbc41"
            ],
            [
             0.9,
             "#4d9221"
            ],
            [
             1,
             "#276419"
            ]
           ],
           "sequential": [
            [
             0,
             "#0d0887"
            ],
            [
             0.1111111111111111,
             "#46039f"
            ],
            [
             0.2222222222222222,
             "#7201a8"
            ],
            [
             0.3333333333333333,
             "#9c179e"
            ],
            [
             0.4444444444444444,
             "#bd3786"
            ],
            [
             0.5555555555555556,
             "#d8576b"
            ],
            [
             0.6666666666666666,
             "#ed7953"
            ],
            [
             0.7777777777777778,
             "#fb9f3a"
            ],
            [
             0.8888888888888888,
             "#fdca26"
            ],
            [
             1,
             "#f0f921"
            ]
           ],
           "sequentialminus": [
            [
             0,
             "#0d0887"
            ],
            [
             0.1111111111111111,
             "#46039f"
            ],
            [
             0.2222222222222222,
             "#7201a8"
            ],
            [
             0.3333333333333333,
             "#9c179e"
            ],
            [
             0.4444444444444444,
             "#bd3786"
            ],
            [
             0.5555555555555556,
             "#d8576b"
            ],
            [
             0.6666666666666666,
             "#ed7953"
            ],
            [
             0.7777777777777778,
             "#fb9f3a"
            ],
            [
             0.8888888888888888,
             "#fdca26"
            ],
            [
             1,
             "#f0f921"
            ]
           ]
          },
          "colorway": [
           "#636efa",
           "#EF553B",
           "#00cc96",
           "#ab63fa",
           "#FFA15A",
           "#19d3f3",
           "#FF6692",
           "#B6E880",
           "#FF97FF",
           "#FECB52"
          ],
          "font": {
           "color": "#2a3f5f"
          },
          "geo": {
           "bgcolor": "white",
           "lakecolor": "white",
           "landcolor": "#E5ECF6",
           "showlakes": true,
           "showland": true,
           "subunitcolor": "white"
          },
          "hoverlabel": {
           "align": "left"
          },
          "hovermode": "closest",
          "mapbox": {
           "style": "light"
          },
          "paper_bgcolor": "white",
          "plot_bgcolor": "#E5ECF6",
          "polar": {
           "angularaxis": {
            "gridcolor": "white",
            "linecolor": "white",
            "ticks": ""
           },
           "bgcolor": "#E5ECF6",
           "radialaxis": {
            "gridcolor": "white",
            "linecolor": "white",
            "ticks": ""
           }
          },
          "scene": {
           "xaxis": {
            "backgroundcolor": "#E5ECF6",
            "gridcolor": "white",
            "gridwidth": 2,
            "linecolor": "white",
            "showbackground": true,
            "ticks": "",
            "zerolinecolor": "white"
           },
           "yaxis": {
            "backgroundcolor": "#E5ECF6",
            "gridcolor": "white",
            "gridwidth": 2,
            "linecolor": "white",
            "showbackground": true,
            "ticks": "",
            "zerolinecolor": "white"
           },
           "zaxis": {
            "backgroundcolor": "#E5ECF6",
            "gridcolor": "white",
            "gridwidth": 2,
            "linecolor": "white",
            "showbackground": true,
            "ticks": "",
            "zerolinecolor": "white"
           }
          },
          "shapedefaults": {
           "line": {
            "color": "#2a3f5f"
           }
          },
          "ternary": {
           "aaxis": {
            "gridcolor": "white",
            "linecolor": "white",
            "ticks": ""
           },
           "baxis": {
            "gridcolor": "white",
            "linecolor": "white",
            "ticks": ""
           },
           "bgcolor": "#E5ECF6",
           "caxis": {
            "gridcolor": "white",
            "linecolor": "white",
            "ticks": ""
           }
          },
          "title": {
           "x": 0.05
          },
          "xaxis": {
           "automargin": true,
           "gridcolor": "white",
           "linecolor": "white",
           "ticks": "",
           "title": {
            "standoff": 15
           },
           "zerolinecolor": "white",
           "zerolinewidth": 2
          },
          "yaxis": {
           "automargin": true,
           "gridcolor": "white",
           "linecolor": "white",
           "ticks": "",
           "title": {
            "standoff": 15
           },
           "zerolinecolor": "white",
           "zerolinewidth": 2
          }
         }
        },
        "title": {
         "text": "Horizontal Bar Graph"
        },
        "xaxis": {
         "title": {
          "text": "Values"
         }
        },
        "yaxis": {
         "title": {
          "text": "Categories"
         }
        }
       }
      }
     },
     "metadata": {},
     "output_type": "display_data"
    }
   ],
   "source": [
    "import plotly.graph_objects as go\n",
    "\n",
    "# Sample data\n",
    "categories = ['Category A', 'Category B', 'Category C', 'Category D']\n",
    "values = [30, 45, 60, 20]\n",
    "\n",
    "# Create the horizontal bar graph\n",
    "fig = go.Figure(go.Bar(\n",
    "    x=values,\n",
    "    y=categories,\n",
    "    orientation='h'\n",
    "))\n",
    "\n",
    "# Update layout to adjust the appearance\n",
    "fig.update_layout(\n",
    "    title='Horizontal Bar Graph',\n",
    "    xaxis_title='Values',\n",
    "    yaxis_title='Categories',\n",
    ")\n",
    "\n",
    "# Show the plot\n",
    "fig.show()\n"
   ]
  },
  {
   "cell_type": "markdown",
   "metadata": {},
   "source": [
    "### Censo"
   ]
  },
  {
   "cell_type": "code",
   "execution_count": 45,
   "metadata": {},
   "outputs": [
    {
     "data": {
      "text/html": [
       "<div>\n",
       "<style scoped>\n",
       "    .dataframe tbody tr th:only-of-type {\n",
       "        vertical-align: middle;\n",
       "    }\n",
       "\n",
       "    .dataframe tbody tr th {\n",
       "        vertical-align: top;\n",
       "    }\n",
       "\n",
       "    .dataframe thead th {\n",
       "        text-align: right;\n",
       "    }\n",
       "</style>\n",
       "<table border=\"1\" class=\"dataframe\">\n",
       "  <thead>\n",
       "    <tr style=\"text-align: right;\">\n",
       "      <th></th>\n",
       "      <th>NC</th>\n",
       "      <th>NN</th>\n",
       "      <th>MC</th>\n",
       "      <th>MN</th>\n",
       "      <th>V</th>\n",
       "      <th>D1C</th>\n",
       "      <th>D1N</th>\n",
       "      <th>D2C</th>\n",
       "      <th>D2N</th>\n",
       "      <th>D3C</th>\n",
       "      <th>D3N</th>\n",
       "    </tr>\n",
       "  </thead>\n",
       "  <tbody>\n",
       "    <tr>\n",
       "      <th>0</th>\n",
       "      <td>Nível Territorial (Código)</td>\n",
       "      <td>Nível Territorial</td>\n",
       "      <td>Unidade de Medida (Código)</td>\n",
       "      <td>Unidade de Medida</td>\n",
       "      <td>Valor</td>\n",
       "      <td>Município (Código)</td>\n",
       "      <td>Município</td>\n",
       "      <td>Ano (Código)</td>\n",
       "      <td>Ano</td>\n",
       "      <td>Variável (Código)</td>\n",
       "      <td>Variável</td>\n",
       "    </tr>\n",
       "    <tr>\n",
       "      <th>1</th>\n",
       "      <td>6</td>\n",
       "      <td>Município</td>\n",
       "      <td>2</td>\n",
       "      <td>%</td>\n",
       "      <td>-1.05</td>\n",
       "      <td>1100015</td>\n",
       "      <td>Alta Floresta D'Oeste - RO</td>\n",
       "      <td>2022</td>\n",
       "      <td>2022</td>\n",
       "      <td>10605</td>\n",
       "      <td>Taxa de crescimento geométrico</td>\n",
       "    </tr>\n",
       "    <tr>\n",
       "      <th>2</th>\n",
       "      <td>6</td>\n",
       "      <td>Município</td>\n",
       "      <td>2</td>\n",
       "      <td>%</td>\n",
       "      <td>0.58</td>\n",
       "      <td>1100023</td>\n",
       "      <td>Ariquemes - RO</td>\n",
       "      <td>2022</td>\n",
       "      <td>2022</td>\n",
       "      <td>10605</td>\n",
       "      <td>Taxa de crescimento geométrico</td>\n",
       "    </tr>\n",
       "    <tr>\n",
       "      <th>3</th>\n",
       "      <td>6</td>\n",
       "      <td>Município</td>\n",
       "      <td>2</td>\n",
       "      <td>%</td>\n",
       "      <td>-1.35</td>\n",
       "      <td>1100031</td>\n",
       "      <td>Cabixi - RO</td>\n",
       "      <td>2022</td>\n",
       "      <td>2022</td>\n",
       "      <td>10605</td>\n",
       "      <td>Taxa de crescimento geométrico</td>\n",
       "    </tr>\n",
       "    <tr>\n",
       "      <th>4</th>\n",
       "      <td>6</td>\n",
       "      <td>Município</td>\n",
       "      <td>2</td>\n",
       "      <td>%</td>\n",
       "      <td>0.84</td>\n",
       "      <td>1100049</td>\n",
       "      <td>Cacoal - RO</td>\n",
       "      <td>2022</td>\n",
       "      <td>2022</td>\n",
       "      <td>10605</td>\n",
       "      <td>Taxa de crescimento geométrico</td>\n",
       "    </tr>\n",
       "  </tbody>\n",
       "</table>\n",
       "</div>"
      ],
      "text/plain": [
       "                           NC                 NN                          MC  \\\n",
       "0  Nível Territorial (Código)  Nível Territorial  Unidade de Medida (Código)   \n",
       "1                           6          Município                           2   \n",
       "2                           6          Município                           2   \n",
       "3                           6          Município                           2   \n",
       "4                           6          Município                           2   \n",
       "\n",
       "                  MN      V                 D1C                         D1N  \\\n",
       "0  Unidade de Medida  Valor  Município (Código)                   Município   \n",
       "1                  %  -1.05             1100015  Alta Floresta D'Oeste - RO   \n",
       "2                  %   0.58             1100023              Ariquemes - RO   \n",
       "3                  %  -1.35             1100031                 Cabixi - RO   \n",
       "4                  %   0.84             1100049                 Cacoal - RO   \n",
       "\n",
       "            D2C   D2N                D3C                             D3N  \n",
       "0  Ano (Código)   Ano  Variável (Código)                        Variável  \n",
       "1          2022  2022              10605  Taxa de crescimento geométrico  \n",
       "2          2022  2022              10605  Taxa de crescimento geométrico  \n",
       "3          2022  2022              10605  Taxa de crescimento geométrico  \n",
       "4          2022  2022              10605  Taxa de crescimento geométrico  "
      ]
     },
     "execution_count": 45,
     "metadata": {},
     "output_type": "execute_result"
    }
   ],
   "source": [
    "pop = sidrapy.get_table(table_code='4709', territorial_level='6', ibge_territorial_code='all', period='all', variable='10605', header='y')\n",
    "pop.head()"
   ]
  },
  {
   "cell_type": "code",
   "execution_count": 3,
   "metadata": {},
   "outputs": [],
   "source": [
    "pop.columns = pop.iloc[0]\n",
    "pop = pop.iloc[1:]\n",
    "pop = pop.iloc[:, [4, 6, 8]]\n",
    "pop['Valor'] = pop['Valor'].astype(float)\n",
    "pop['Valor'] = pop['Valor'] / 100\n",
    "pop.columns = ['Valor', 'Municipio', 'Ano']\n",
    "pop['Estado'] = pop['Municipio'].str.split('-').str[-1].str.strip()\n",
    "pop['Municipio'] = pop['Municipio'].str.split('-').str[0].str.strip()"
   ]
  },
  {
   "cell_type": "code",
   "execution_count": 4,
   "metadata": {},
   "outputs": [
    {
     "data": {
      "text/html": [
       "<div>\n",
       "<style scoped>\n",
       "    .dataframe tbody tr th:only-of-type {\n",
       "        vertical-align: middle;\n",
       "    }\n",
       "\n",
       "    .dataframe tbody tr th {\n",
       "        vertical-align: top;\n",
       "    }\n",
       "\n",
       "    .dataframe thead th {\n",
       "        text-align: right;\n",
       "    }\n",
       "</style>\n",
       "<table border=\"1\" class=\"dataframe\">\n",
       "  <thead>\n",
       "    <tr style=\"text-align: right;\">\n",
       "      <th></th>\n",
       "      <th>Valor</th>\n",
       "      <th>Municipio</th>\n",
       "      <th>Ano</th>\n",
       "      <th>Estado</th>\n",
       "    </tr>\n",
       "  </thead>\n",
       "  <tbody>\n",
       "    <tr>\n",
       "      <th>1</th>\n",
       "      <td>-0.0105</td>\n",
       "      <td>Alta Floresta D'Oeste</td>\n",
       "      <td>2022</td>\n",
       "      <td>RO</td>\n",
       "    </tr>\n",
       "    <tr>\n",
       "      <th>2</th>\n",
       "      <td>0.0058</td>\n",
       "      <td>Ariquemes</td>\n",
       "      <td>2022</td>\n",
       "      <td>RO</td>\n",
       "    </tr>\n",
       "    <tr>\n",
       "      <th>3</th>\n",
       "      <td>-0.0135</td>\n",
       "      <td>Cabixi</td>\n",
       "      <td>2022</td>\n",
       "      <td>RO</td>\n",
       "    </tr>\n",
       "    <tr>\n",
       "      <th>4</th>\n",
       "      <td>0.0084</td>\n",
       "      <td>Cacoal</td>\n",
       "      <td>2022</td>\n",
       "      <td>RO</td>\n",
       "    </tr>\n",
       "    <tr>\n",
       "      <th>5</th>\n",
       "      <td>-0.0058</td>\n",
       "      <td>Cerejeiras</td>\n",
       "      <td>2022</td>\n",
       "      <td>RO</td>\n",
       "    </tr>\n",
       "  </tbody>\n",
       "</table>\n",
       "</div>"
      ],
      "text/plain": [
       "    Valor              Municipio   Ano Estado\n",
       "1 -0.0105  Alta Floresta D'Oeste  2022     RO\n",
       "2  0.0058              Ariquemes  2022     RO\n",
       "3 -0.0135                 Cabixi  2022     RO\n",
       "4  0.0084                 Cacoal  2022     RO\n",
       "5 -0.0058             Cerejeiras  2022     RO"
      ]
     },
     "execution_count": 4,
     "metadata": {},
     "output_type": "execute_result"
    }
   ],
   "source": [
    "pop.head()"
   ]
  },
  {
   "cell_type": "code",
   "execution_count": 5,
   "metadata": {},
   "outputs": [],
   "source": [
    "import geopandas as gpd\n",
    "import geobr"
   ]
  },
  {
   "cell_type": "code",
   "execution_count": null,
   "metadata": {},
   "outputs": [],
   "source": [
    "municipalities = geobr.read_municipality()"
   ]
  },
  {
   "cell_type": "code",
   "execution_count": 21,
   "metadata": {},
   "outputs": [],
   "source": [
    "municipalities['name_muni'] = municipalities['name_muni'].str.upper()\n",
    "pop['Municipio'] = pop['Municipio'].str.upper()"
   ]
  },
  {
   "cell_type": "code",
   "execution_count": 23,
   "metadata": {},
   "outputs": [
    {
     "data": {
      "text/html": [
       "<div>\n",
       "<style scoped>\n",
       "    .dataframe tbody tr th:only-of-type {\n",
       "        vertical-align: middle;\n",
       "    }\n",
       "\n",
       "    .dataframe tbody tr th {\n",
       "        vertical-align: top;\n",
       "    }\n",
       "\n",
       "    .dataframe thead th {\n",
       "        text-align: right;\n",
       "    }\n",
       "</style>\n",
       "<table border=\"1\" class=\"dataframe\">\n",
       "  <thead>\n",
       "    <tr style=\"text-align: right;\">\n",
       "      <th></th>\n",
       "      <th>code_muni</th>\n",
       "      <th>name_muni</th>\n",
       "      <th>code_state</th>\n",
       "      <th>abbrev_state</th>\n",
       "      <th>geometry</th>\n",
       "      <th>Valor</th>\n",
       "      <th>Municipio</th>\n",
       "      <th>Ano</th>\n",
       "      <th>Estado</th>\n",
       "    </tr>\n",
       "  </thead>\n",
       "  <tbody>\n",
       "    <tr>\n",
       "      <th>0</th>\n",
       "      <td>1100015.0</td>\n",
       "      <td>ALTA FLORESTA D'OESTE</td>\n",
       "      <td>11.0</td>\n",
       "      <td>RO</td>\n",
       "      <td>MULTIPOLYGON (((-62.24620 -11.90149, -62.24151...</td>\n",
       "      <td>-0.0105</td>\n",
       "      <td>ALTA FLORESTA D'OESTE</td>\n",
       "      <td>2022</td>\n",
       "      <td>RO</td>\n",
       "    </tr>\n",
       "    <tr>\n",
       "      <th>1</th>\n",
       "      <td>1100023.0</td>\n",
       "      <td>ARIQUEMES</td>\n",
       "      <td>11.0</td>\n",
       "      <td>RO</td>\n",
       "      <td>MULTIPOLYGON (((-63.13712 -9.78413, -63.09013 ...</td>\n",
       "      <td>0.0058</td>\n",
       "      <td>ARIQUEMES</td>\n",
       "      <td>2022</td>\n",
       "      <td>RO</td>\n",
       "    </tr>\n",
       "    <tr>\n",
       "      <th>2</th>\n",
       "      <td>1100031.0</td>\n",
       "      <td>CABIXI</td>\n",
       "      <td>11.0</td>\n",
       "      <td>RO</td>\n",
       "      <td>MULTIPOLYGON (((-60.52408 -13.32137, -60.37161...</td>\n",
       "      <td>-0.0135</td>\n",
       "      <td>CABIXI</td>\n",
       "      <td>2022</td>\n",
       "      <td>RO</td>\n",
       "    </tr>\n",
       "    <tr>\n",
       "      <th>3</th>\n",
       "      <td>1100049.0</td>\n",
       "      <td>CACOAL</td>\n",
       "      <td>11.0</td>\n",
       "      <td>RO</td>\n",
       "      <td>MULTIPOLYGON (((-61.42679 -11.11376, -61.42900...</td>\n",
       "      <td>0.0084</td>\n",
       "      <td>CACOAL</td>\n",
       "      <td>2022</td>\n",
       "      <td>RO</td>\n",
       "    </tr>\n",
       "    <tr>\n",
       "      <th>4</th>\n",
       "      <td>1100056.0</td>\n",
       "      <td>CEREJEIRAS</td>\n",
       "      <td>11.0</td>\n",
       "      <td>RO</td>\n",
       "      <td>MULTIPOLYGON (((-61.41347 -13.23417, -61.42603...</td>\n",
       "      <td>-0.0058</td>\n",
       "      <td>CEREJEIRAS</td>\n",
       "      <td>2022</td>\n",
       "      <td>RO</td>\n",
       "    </tr>\n",
       "  </tbody>\n",
       "</table>\n",
       "</div>"
      ],
      "text/plain": [
       "   code_muni              name_muni  code_state abbrev_state  \\\n",
       "0  1100015.0  ALTA FLORESTA D'OESTE        11.0           RO   \n",
       "1  1100023.0              ARIQUEMES        11.0           RO   \n",
       "2  1100031.0                 CABIXI        11.0           RO   \n",
       "3  1100049.0                 CACOAL        11.0           RO   \n",
       "4  1100056.0             CEREJEIRAS        11.0           RO   \n",
       "\n",
       "                                            geometry   Valor  \\\n",
       "0  MULTIPOLYGON (((-62.24620 -11.90149, -62.24151... -0.0105   \n",
       "1  MULTIPOLYGON (((-63.13712 -9.78413, -63.09013 ...  0.0058   \n",
       "2  MULTIPOLYGON (((-60.52408 -13.32137, -60.37161... -0.0135   \n",
       "3  MULTIPOLYGON (((-61.42679 -11.11376, -61.42900...  0.0084   \n",
       "4  MULTIPOLYGON (((-61.41347 -13.23417, -61.42603... -0.0058   \n",
       "\n",
       "               Municipio   Ano Estado  \n",
       "0  ALTA FLORESTA D'OESTE  2022     RO  \n",
       "1              ARIQUEMES  2022     RO  \n",
       "2                 CABIXI  2022     RO  \n",
       "3                 CACOAL  2022     RO  \n",
       "4             CEREJEIRAS  2022     RO  "
      ]
     },
     "execution_count": 23,
     "metadata": {},
     "output_type": "execute_result"
    }
   ],
   "source": [
    "df = municipalities.merge(pop, left_on='name_muni', right_on='Municipio', how='left')\n",
    "df.head()"
   ]
  },
  {
   "cell_type": "code",
   "execution_count": 32,
   "metadata": {},
   "outputs": [],
   "source": [
    "df.dropna(subset=['Valor'], inplace=True)"
   ]
  },
  {
   "cell_type": "code",
   "execution_count": 40,
   "metadata": {},
   "outputs": [
    {
     "name": "stderr",
     "output_type": "stream",
     "text": [
      "c:\\Users\\Yamac\\AppData\\Local\\Programs\\Python\\Python310\\lib\\site-packages\\geopandas\\plotting.py:33: ShapelyDeprecationWarning: Iteration over multi-part geometries is deprecated and will be removed in Shapely 2.0. Use the `geoms` property to access the constituent parts of a multi-part geometry.\n",
      "  for poly in geom:\n",
      "c:\\Users\\Yamac\\AppData\\Local\\Programs\\Python\\Python310\\lib\\site-packages\\descartes\\patch.py:62: ShapelyDeprecationWarning: The array interface is deprecated and will no longer work in Shapely 2.0. Convert the '.coords' to a numpy array instead.\n",
      "  vertices = concatenate([\n",
      "c:\\Users\\Yamac\\AppData\\Local\\Programs\\Python\\Python310\\lib\\site-packages\\descartes\\patch.py:64: ShapelyDeprecationWarning: The array interface is deprecated and will no longer work in Shapely 2.0. Convert the '.coords' to a numpy array instead.\n",
      "  [asarray(r)[:, :2] for r in t.interiors])\n"
     ]
    },
    {
     "data": {
      "image/png": "[encoded data removed]",
      "text/plain": [
       "<Figure size 1200x800 with 2 Axes>"
      ]
     },
     "metadata": {},
     "output_type": "display_data"
    }
   ],
   "source": [
    "fig, ax = plt.subplots(figsize=(12, 8))\n",
    "df.plot(column='Valor', cmap='viridis', ax=ax, legend=True)\n",
    "plt.title('Population in Brazilian Municipalities')\n",
    "plt.show()\n"
   ]
  },
  {
   "cell_type": "code",
   "execution_count": 65,
   "metadata": {},
   "outputs": [],
   "source": [
    "pop_estado = sidrapy.get_table(table_code='4709', territorial_level='3', ibge_territorial_code='all', period='all', variable='10605', header='y')"
   ]
  },
  {
   "cell_type": "code",
   "execution_count": 66,
   "metadata": {},
   "outputs": [],
   "source": [
    "pop_estado.columns = pop_estado.iloc[0]\n",
    "pop_estado = pop_estado.iloc[1:]\n",
    "pop_estado = pop_estado.iloc[:, [4, 6, 8]]\n",
    "pop_estado['Valor'] = pop_estado['Valor'].astype(float)\n",
    "pop_estado.columns = ['Valor', 'Municipio', 'Ano']\n",
    "pop_estado['Estado'] = pop_estado['Municipio'].str.split('-').str[-1].str.strip()\n",
    "pop_estado['Municipio'] = pop_estado['Municipio'].str.split('-').str[0].str.strip()"
   ]
  },
  {
   "cell_type": "code",
   "execution_count": 68,
   "metadata": {},
   "outputs": [],
   "source": [
    "states = geobr.read_state()\n",
    "pop_estado['Estado'] = pop_estado['Estado'].str.upper()\n",
    "states['name_state'] = states['name_state'].str.upper()"
   ]
  },
  {
   "cell_type": "code",
   "execution_count": 83,
   "metadata": {},
   "outputs": [],
   "source": [
    "pop_estado['Estado'] = pop_estado['Estado'].apply(lambda x: unidecode(x))\n",
    "states['name_state'] = states['name_state'].apply(lambda x: unidecode(x))"
   ]
  },
  {
   "cell_type": "code",
   "execution_count": 84,
   "metadata": {},
   "outputs": [],
   "source": [
    "dof = states.merge(pop_estado, left_on='name_state', right_on='Estado', how='left')"
   ]
  },
  {
   "cell_type": "code",
   "execution_count": 85,
   "metadata": {},
   "outputs": [
    {
     "data": {
      "text/html": [
       "<div>\n",
       "<style scoped>\n",
       "    .dataframe tbody tr th:only-of-type {\n",
       "        vertical-align: middle;\n",
       "    }\n",
       "\n",
       "    .dataframe tbody tr th {\n",
       "        vertical-align: top;\n",
       "    }\n",
       "\n",
       "    .dataframe thead th {\n",
       "        text-align: right;\n",
       "    }\n",
       "</style>\n",
       "<table border=\"1\" class=\"dataframe\">\n",
       "  <thead>\n",
       "    <tr style=\"text-align: right;\">\n",
       "      <th></th>\n",
       "      <th>code_state</th>\n",
       "      <th>abbrev_state</th>\n",
       "      <th>name_state</th>\n",
       "      <th>code_region</th>\n",
       "      <th>name_region</th>\n",
       "      <th>geometry</th>\n",
       "      <th>Valor</th>\n",
       "      <th>Municipio</th>\n",
       "      <th>Ano</th>\n",
       "      <th>Estado</th>\n",
       "    </tr>\n",
       "  </thead>\n",
       "  <tbody>\n",
       "    <tr>\n",
       "      <th>0</th>\n",
       "      <td>11.0</td>\n",
       "      <td>RO</td>\n",
       "      <td>RONDONIA</td>\n",
       "      <td>1.0</td>\n",
       "      <td>Norte</td>\n",
       "      <td>MULTIPOLYGON (((-63.32721 -7.97672, -62.86662 ...</td>\n",
       "      <td>0.10</td>\n",
       "      <td>Rondônia</td>\n",
       "      <td>2022</td>\n",
       "      <td>RONDONIA</td>\n",
       "    </tr>\n",
       "    <tr>\n",
       "      <th>1</th>\n",
       "      <td>12.0</td>\n",
       "      <td>AC</td>\n",
       "      <td>ACRE</td>\n",
       "      <td>1.0</td>\n",
       "      <td>Norte</td>\n",
       "      <td>MULTIPOLYGON (((-73.18253 -7.33550, -72.58477 ...</td>\n",
       "      <td>1.03</td>\n",
       "      <td>Acre</td>\n",
       "      <td>2022</td>\n",
       "      <td>ACRE</td>\n",
       "    </tr>\n",
       "    <tr>\n",
       "      <th>2</th>\n",
       "      <td>13.0</td>\n",
       "      <td>AM</td>\n",
       "      <td>AMAZONAS</td>\n",
       "      <td>1.0</td>\n",
       "      <td>Norte</td>\n",
       "      <td>MULTIPOLYGON (((-67.32609 2.02971, -67.31682 2...</td>\n",
       "      <td>1.03</td>\n",
       "      <td>Amazonas</td>\n",
       "      <td>2022</td>\n",
       "      <td>AMAZONAS</td>\n",
       "    </tr>\n",
       "    <tr>\n",
       "      <th>3</th>\n",
       "      <td>14.0</td>\n",
       "      <td>RR</td>\n",
       "      <td>RORAIMA</td>\n",
       "      <td>1.0</td>\n",
       "      <td>Norte</td>\n",
       "      <td>MULTIPOLYGON (((-60.20051 5.26434, -60.19273 5...</td>\n",
       "      <td>2.92</td>\n",
       "      <td>Roraima</td>\n",
       "      <td>2022</td>\n",
       "      <td>RORAIMA</td>\n",
       "    </tr>\n",
       "    <tr>\n",
       "      <th>4</th>\n",
       "      <td>15.0</td>\n",
       "      <td>PA</td>\n",
       "      <td>PARA</td>\n",
       "      <td>1.0</td>\n",
       "      <td>Norte</td>\n",
       "      <td>MULTIPOLYGON (((-54.95431 2.58369, -54.93542 2...</td>\n",
       "      <td>0.57</td>\n",
       "      <td>Pará</td>\n",
       "      <td>2022</td>\n",
       "      <td>PARA</td>\n",
       "    </tr>\n",
       "    <tr>\n",
       "      <th>5</th>\n",
       "      <td>16.0</td>\n",
       "      <td>AP</td>\n",
       "      <td>AMAPA</td>\n",
       "      <td>1.0</td>\n",
       "      <td>Norte</td>\n",
       "      <td>MULTIPOLYGON (((-51.17970 4.00008, -51.17739 3...</td>\n",
       "      <td>0.76</td>\n",
       "      <td>Amapá</td>\n",
       "      <td>2022</td>\n",
       "      <td>AMAPA</td>\n",
       "    </tr>\n",
       "    <tr>\n",
       "      <th>6</th>\n",
       "      <td>17.0</td>\n",
       "      <td>TO</td>\n",
       "      <td>TOCANTINS</td>\n",
       "      <td>1.0</td>\n",
       "      <td>Norte</td>\n",
       "      <td>MULTIPOLYGON (((-48.35878 -5.17008, -48.33846 ...</td>\n",
       "      <td>0.74</td>\n",
       "      <td>Tocantins</td>\n",
       "      <td>2022</td>\n",
       "      <td>TOCANTINS</td>\n",
       "    </tr>\n",
       "    <tr>\n",
       "      <th>7</th>\n",
       "      <td>21.0</td>\n",
       "      <td>MA</td>\n",
       "      <td>MARANHAO</td>\n",
       "      <td>2.0</td>\n",
       "      <td>Nordeste</td>\n",
       "      <td>MULTIPOLYGON (((-45.84073 -1.04548, -45.84099 ...</td>\n",
       "      <td>0.25</td>\n",
       "      <td>Maranhão</td>\n",
       "      <td>2022</td>\n",
       "      <td>MARANHAO</td>\n",
       "    </tr>\n",
       "    <tr>\n",
       "      <th>8</th>\n",
       "      <td>22.0</td>\n",
       "      <td>PI</td>\n",
       "      <td>PIAUI</td>\n",
       "      <td>2.0</td>\n",
       "      <td>Nordeste</td>\n",
       "      <td>MULTIPOLYGON (((-41.74605 -2.80350, -41.73488 ...</td>\n",
       "      <td>0.39</td>\n",
       "      <td>Piauí</td>\n",
       "      <td>2022</td>\n",
       "      <td>PIAUI</td>\n",
       "    </tr>\n",
       "    <tr>\n",
       "      <th>9</th>\n",
       "      <td>23.0</td>\n",
       "      <td>CE</td>\n",
       "      <td>CEARA</td>\n",
       "      <td>2.0</td>\n",
       "      <td>Nordeste</td>\n",
       "      <td>MULTIPOLYGON (((-41.16703 -4.46736, -41.17757 ...</td>\n",
       "      <td>0.33</td>\n",
       "      <td>Ceará</td>\n",
       "      <td>2022</td>\n",
       "      <td>CEARA</td>\n",
       "    </tr>\n",
       "    <tr>\n",
       "      <th>10</th>\n",
       "      <td>24.0</td>\n",
       "      <td>RN</td>\n",
       "      <td>RIO GRANDE DO NORTE</td>\n",
       "      <td>2.0</td>\n",
       "      <td>Nordeste</td>\n",
       "      <td>MULTIPOLYGON (((-37.25329 -4.83156, -37.24905 ...</td>\n",
       "      <td>0.35</td>\n",
       "      <td>Rio Grande do Norte</td>\n",
       "      <td>2022</td>\n",
       "      <td>RIO GRANDE DO NORTE</td>\n",
       "    </tr>\n",
       "    <tr>\n",
       "      <th>11</th>\n",
       "      <td>25.0</td>\n",
       "      <td>PB</td>\n",
       "      <td>PARAIBA</td>\n",
       "      <td>2.0</td>\n",
       "      <td>Nordeste</td>\n",
       "      <td>MULTIPOLYGON (((-37.22269 -6.04215, -37.21642 ...</td>\n",
       "      <td>0.45</td>\n",
       "      <td>Paraíba</td>\n",
       "      <td>2022</td>\n",
       "      <td>PARAIBA</td>\n",
       "    </tr>\n",
       "    <tr>\n",
       "      <th>12</th>\n",
       "      <td>26.0</td>\n",
       "      <td>PE</td>\n",
       "      <td>PERNAMBUCO</td>\n",
       "      <td>2.0</td>\n",
       "      <td>Nordeste</td>\n",
       "      <td>MULTIPOLYGON (((-32.39705 -3.83294, -32.39774 ...</td>\n",
       "      <td>0.24</td>\n",
       "      <td>Pernambuco</td>\n",
       "      <td>2022</td>\n",
       "      <td>PERNAMBUCO</td>\n",
       "    </tr>\n",
       "    <tr>\n",
       "      <th>13</th>\n",
       "      <td>27.0</td>\n",
       "      <td>AL</td>\n",
       "      <td>ALAGOAS</td>\n",
       "      <td>2.0</td>\n",
       "      <td>Nordeste</td>\n",
       "      <td>MULTIPOLYGON (((-35.46753 -8.81744, -35.46430 ...</td>\n",
       "      <td>0.02</td>\n",
       "      <td>Alagoas</td>\n",
       "      <td>2022</td>\n",
       "      <td>ALAGOAS</td>\n",
       "    </tr>\n",
       "    <tr>\n",
       "      <th>14</th>\n",
       "      <td>28.0</td>\n",
       "      <td>SE</td>\n",
       "      <td>SERGIPE</td>\n",
       "      <td>2.0</td>\n",
       "      <td>Nordeste</td>\n",
       "      <td>MULTIPOLYGON (((-37.99245 -9.52511, -37.98933 ...</td>\n",
       "      <td>0.55</td>\n",
       "      <td>Sergipe</td>\n",
       "      <td>2022</td>\n",
       "      <td>SERGIPE</td>\n",
       "    </tr>\n",
       "    <tr>\n",
       "      <th>15</th>\n",
       "      <td>29.0</td>\n",
       "      <td>BA</td>\n",
       "      <td>BAHIA</td>\n",
       "      <td>2.0</td>\n",
       "      <td>Nordeste</td>\n",
       "      <td>MULTIPOLYGON (((-39.36446 -8.53785, -39.35681 ...</td>\n",
       "      <td>0.07</td>\n",
       "      <td>Bahia</td>\n",
       "      <td>2022</td>\n",
       "      <td>BAHIA</td>\n",
       "    </tr>\n",
       "    <tr>\n",
       "      <th>16</th>\n",
       "      <td>31.0</td>\n",
       "      <td>MG</td>\n",
       "      <td>MINAS GERAIS</td>\n",
       "      <td>3.0</td>\n",
       "      <td>Sudeste</td>\n",
       "      <td>MULTIPOLYGON (((-41.87545 -20.76487, -41.87338...</td>\n",
       "      <td>0.39</td>\n",
       "      <td>Minas Gerais</td>\n",
       "      <td>2022</td>\n",
       "      <td>MINAS GERAIS</td>\n",
       "    </tr>\n",
       "    <tr>\n",
       "      <th>17</th>\n",
       "      <td>32.0</td>\n",
       "      <td>ES</td>\n",
       "      <td>ESPIRITO SANTO</td>\n",
       "      <td>3.0</td>\n",
       "      <td>Sudeste</td>\n",
       "      <td>MULTIPOLYGON (((-41.87545 -20.76487, -41.87920...</td>\n",
       "      <td>0.73</td>\n",
       "      <td>Espírito Santo</td>\n",
       "      <td>2022</td>\n",
       "      <td>ESPIRITO SANTO</td>\n",
       "    </tr>\n",
       "    <tr>\n",
       "      <th>18</th>\n",
       "      <td>33.0</td>\n",
       "      <td>RJ</td>\n",
       "      <td>RIO DE JANEIRO</td>\n",
       "      <td>3.0</td>\n",
       "      <td>Sudeste</td>\n",
       "      <td>MULTIPOLYGON (((-41.85946 -20.76517, -41.85748...</td>\n",
       "      <td>0.03</td>\n",
       "      <td>Rio de Janeiro</td>\n",
       "      <td>2022</td>\n",
       "      <td>RIO DE JANEIRO</td>\n",
       "    </tr>\n",
       "    <tr>\n",
       "      <th>19</th>\n",
       "      <td>35.0</td>\n",
       "      <td>SP</td>\n",
       "      <td>SAO PAULO</td>\n",
       "      <td>3.0</td>\n",
       "      <td>Sudeste</td>\n",
       "      <td>MULTIPOLYGON (((-44.90215 -23.35392, -44.90650...</td>\n",
       "      <td>0.62</td>\n",
       "      <td>São Paulo</td>\n",
       "      <td>2022</td>\n",
       "      <td>SAO PAULO</td>\n",
       "    </tr>\n",
       "    <tr>\n",
       "      <th>20</th>\n",
       "      <td>41.0</td>\n",
       "      <td>PR</td>\n",
       "      <td>PARANA</td>\n",
       "      <td>4.0</td>\n",
       "      <td>Sul</td>\n",
       "      <td>MULTIPOLYGON (((-52.05188 -22.53933, -52.03446...</td>\n",
       "      <td>0.76</td>\n",
       "      <td>Paraná</td>\n",
       "      <td>2022</td>\n",
       "      <td>PARANA</td>\n",
       "    </tr>\n",
       "    <tr>\n",
       "      <th>21</th>\n",
       "      <td>42.0</td>\n",
       "      <td>SC</td>\n",
       "      <td>SANTA CATARINA</td>\n",
       "      <td>4.0</td>\n",
       "      <td>Sul</td>\n",
       "      <td>MULTIPOLYGON (((-48.63865 -25.96873, -48.63434...</td>\n",
       "      <td>1.66</td>\n",
       "      <td>Santa Catarina</td>\n",
       "      <td>2022</td>\n",
       "      <td>SANTA CATARINA</td>\n",
       "    </tr>\n",
       "    <tr>\n",
       "      <th>22</th>\n",
       "      <td>43.0</td>\n",
       "      <td>RS</td>\n",
       "      <td>RIO GRANDE DO SUL</td>\n",
       "      <td>4.0</td>\n",
       "      <td>Sul</td>\n",
       "      <td>MULTIPOLYGON (((-51.90486 -27.45935, -51.90129...</td>\n",
       "      <td>0.14</td>\n",
       "      <td>Rio Grande do Sul</td>\n",
       "      <td>2022</td>\n",
       "      <td>RIO GRANDE DO SUL</td>\n",
       "    </tr>\n",
       "    <tr>\n",
       "      <th>23</th>\n",
       "      <td>50.0</td>\n",
       "      <td>MS</td>\n",
       "      <td>MATO GROSSO DO SUL</td>\n",
       "      <td>5.0</td>\n",
       "      <td>Centro Oeste</td>\n",
       "      <td>MULTIPOLYGON (((-56.10370 -17.17354, -56.09692...</td>\n",
       "      <td>0.99</td>\n",
       "      <td>Mato Grosso do Sul</td>\n",
       "      <td>2022</td>\n",
       "      <td>MATO GROSSO DO SUL</td>\n",
       "    </tr>\n",
       "    <tr>\n",
       "      <th>24</th>\n",
       "      <td>51.0</td>\n",
       "      <td>MT</td>\n",
       "      <td>MATO GROSSO</td>\n",
       "      <td>5.0</td>\n",
       "      <td>Centro Oeste</td>\n",
       "      <td>MULTIPOLYGON (((-54.89485 -17.62150, -54.89704...</td>\n",
       "      <td>1.57</td>\n",
       "      <td>Mato Grosso</td>\n",
       "      <td>2022</td>\n",
       "      <td>MATO GROSSO</td>\n",
       "    </tr>\n",
       "    <tr>\n",
       "      <th>25</th>\n",
       "      <td>52.0</td>\n",
       "      <td>GO</td>\n",
       "      <td>GOIAS</td>\n",
       "      <td>5.0</td>\n",
       "      <td>Centro Oeste</td>\n",
       "      <td>MULTIPOLYGON (((-50.16015 -12.42007, -50.15856...</td>\n",
       "      <td>1.36</td>\n",
       "      <td>Goiás</td>\n",
       "      <td>2022</td>\n",
       "      <td>GOIAS</td>\n",
       "    </tr>\n",
       "    <tr>\n",
       "      <th>26</th>\n",
       "      <td>53.0</td>\n",
       "      <td>DF</td>\n",
       "      <td>DISTRITO FEDERAL</td>\n",
       "      <td>5.0</td>\n",
       "      <td>Centro Oeste</td>\n",
       "      <td>MULTIPOLYGON (((-47.57461 -15.51341, -47.56997...</td>\n",
       "      <td>0.76</td>\n",
       "      <td>Distrito Federal</td>\n",
       "      <td>2022</td>\n",
       "      <td>DISTRITO FEDERAL</td>\n",
       "    </tr>\n",
       "  </tbody>\n",
       "</table>\n",
       "</div>"
      ],
      "text/plain": [
       "    code_state abbrev_state           name_state  code_region   name_region  \\\n",
       "0         11.0           RO             RONDONIA          1.0         Norte   \n",
       "1         12.0           AC                 ACRE          1.0         Norte   \n",
       "2         13.0           AM             AMAZONAS          1.0         Norte   \n",
       "3         14.0           RR              RORAIMA          1.0         Norte   \n",
       "4         15.0           PA                 PARA          1.0         Norte   \n",
       "5         16.0           AP                AMAPA          1.0         Norte   \n",
       "6         17.0           TO            TOCANTINS          1.0         Norte   \n",
       "7         21.0           MA             MARANHAO          2.0      Nordeste   \n",
       "8         22.0           PI                PIAUI          2.0      Nordeste   \n",
       "9         23.0           CE                CEARA          2.0      Nordeste   \n",
       "10        24.0           RN  RIO GRANDE DO NORTE          2.0      Nordeste   \n",
       "11        25.0           PB              PARAIBA          2.0      Nordeste   \n",
       "12        26.0           PE           PERNAMBUCO          2.0      Nordeste   \n",
       "13        27.0           AL              ALAGOAS          2.0      Nordeste   \n",
       "14        28.0           SE              SERGIPE          2.0      Nordeste   \n",
       "15        29.0           BA                BAHIA          2.0      Nordeste   \n",
       "16        31.0           MG         MINAS GERAIS          3.0       Sudeste   \n",
       "17        32.0           ES       ESPIRITO SANTO          3.0       Sudeste   \n",
       "18        33.0           RJ       RIO DE JANEIRO          3.0       Sudeste   \n",
       "19        35.0           SP            SAO PAULO          3.0       Sudeste   \n",
       "20        41.0           PR               PARANA          4.0           Sul   \n",
       "21        42.0           SC       SANTA CATARINA          4.0           Sul   \n",
       "22        43.0           RS    RIO GRANDE DO SUL          4.0           Sul   \n",
       "23        50.0           MS   MATO GROSSO DO SUL          5.0  Centro Oeste   \n",
       "24        51.0           MT          MATO GROSSO          5.0  Centro Oeste   \n",
       "25        52.0           GO                GOIAS          5.0  Centro Oeste   \n",
       "26        53.0           DF     DISTRITO FEDERAL          5.0  Centro Oeste   \n",
       "\n",
       "                                             geometry  Valor  \\\n",
       "0   MULTIPOLYGON (((-63.32721 -7.97672, -62.86662 ...   0.10   \n",
       "1   MULTIPOLYGON (((-73.18253 -7.33550, -72.58477 ...   1.03   \n",
       "2   MULTIPOLYGON (((-67.32609 2.02971, -67.31682 2...   1.03   \n",
       "3   MULTIPOLYGON (((-60.20051 5.26434, -60.19273 5...   2.92   \n",
       "4   MULTIPOLYGON (((-54.95431 2.58369, -54.93542 2...   0.57   \n",
       "5   MULTIPOLYGON (((-51.17970 4.00008, -51.17739 3...   0.76   \n",
       "6   MULTIPOLYGON (((-48.35878 -5.17008, -48.33846 ...   0.74   \n",
       "7   MULTIPOLYGON (((-45.84073 -1.04548, -45.84099 ...   0.25   \n",
       "8   MULTIPOLYGON (((-41.74605 -2.80350, -41.73488 ...   0.39   \n",
       "9   MULTIPOLYGON (((-41.16703 -4.46736, -41.17757 ...   0.33   \n",
       "10  MULTIPOLYGON (((-37.25329 -4.83156, -37.24905 ...   0.35   \n",
       "11  MULTIPOLYGON (((-37.22269 -6.04215, -37.21642 ...   0.45   \n",
       "12  MULTIPOLYGON (((-32.39705 -3.83294, -32.39774 ...   0.24   \n",
       "13  MULTIPOLYGON (((-35.46753 -8.81744, -35.46430 ...   0.02   \n",
       "14  MULTIPOLYGON (((-37.99245 -9.52511, -37.98933 ...   0.55   \n",
       "15  MULTIPOLYGON (((-39.36446 -8.53785, -39.35681 ...   0.07   \n",
       "16  MULTIPOLYGON (((-41.87545 -20.76487, -41.87338...   0.39   \n",
       "17  MULTIPOLYGON (((-41.87545 -20.76487, -41.87920...   0.73   \n",
       "18  MULTIPOLYGON (((-41.85946 -20.76517, -41.85748...   0.03   \n",
       "19  MULTIPOLYGON (((-44.90215 -23.35392, -44.90650...   0.62   \n",
       "20  MULTIPOLYGON (((-52.05188 -22.53933, -52.03446...   0.76   \n",
       "21  MULTIPOLYGON (((-48.63865 -25.96873, -48.63434...   1.66   \n",
       "22  MULTIPOLYGON (((-51.90486 -27.45935, -51.90129...   0.14   \n",
       "23  MULTIPOLYGON (((-56.10370 -17.17354, -56.09692...   0.99   \n",
       "24  MULTIPOLYGON (((-54.89485 -17.62150, -54.89704...   1.57   \n",
       "25  MULTIPOLYGON (((-50.16015 -12.42007, -50.15856...   1.36   \n",
       "26  MULTIPOLYGON (((-47.57461 -15.51341, -47.56997...   0.76   \n",
       "\n",
       "              Municipio   Ano               Estado  \n",
       "0              Rondônia  2022             RONDONIA  \n",
       "1                  Acre  2022                 ACRE  \n",
       "2              Amazonas  2022             AMAZONAS  \n",
       "3               Roraima  2022              RORAIMA  \n",
       "4                  Pará  2022                 PARA  \n",
       "5                 Amapá  2022                AMAPA  \n",
       "6             Tocantins  2022            TOCANTINS  \n",
       "7              Maranhão  2022             MARANHAO  \n",
       "8                 Piauí  2022                PIAUI  \n",
       "9                 Ceará  2022                CEARA  \n",
       "10  Rio Grande do Norte  2022  RIO GRANDE DO NORTE  \n",
       "11              Paraíba  2022              PARAIBA  \n",
       "12           Pernambuco  2022           PERNAMBUCO  \n",
       "13              Alagoas  2022              ALAGOAS  \n",
       "14              Sergipe  2022              SERGIPE  \n",
       "15                Bahia  2022                BAHIA  \n",
       "16         Minas Gerais  2022         MINAS GERAIS  \n",
       "17       Espírito Santo  2022       ESPIRITO SANTO  \n",
       "18       Rio de Janeiro  2022       RIO DE JANEIRO  \n",
       "19            São Paulo  2022            SAO PAULO  \n",
       "20               Paraná  2022               PARANA  \n",
       "21       Santa Catarina  2022       SANTA CATARINA  \n",
       "22    Rio Grande do Sul  2022    RIO GRANDE DO SUL  \n",
       "23   Mato Grosso do Sul  2022   MATO GROSSO DO SUL  \n",
       "24          Mato Grosso  2022          MATO GROSSO  \n",
       "25                Goiás  2022                GOIAS  \n",
       "26     Distrito Federal  2022     DISTRITO FEDERAL  "
      ]
     },
     "execution_count": 85,
     "metadata": {},
     "output_type": "execute_result"
    }
   ],
   "source": [
    "dof"
   ]
  },
  {
   "cell_type": "code",
   "execution_count": 86,
   "metadata": {},
   "outputs": [
    {
     "name": "stderr",
     "output_type": "stream",
     "text": [
      "c:\\Users\\Yamac\\AppData\\Local\\Programs\\Python\\Python310\\lib\\site-packages\\geopandas\\plotting.py:33: ShapelyDeprecationWarning: Iteration over multi-part geometries is deprecated and will be removed in Shapely 2.0. Use the `geoms` property to access the constituent parts of a multi-part geometry.\n",
      "  for poly in geom:\n",
      "c:\\Users\\Yamac\\AppData\\Local\\Programs\\Python\\Python310\\lib\\site-packages\\descartes\\patch.py:62: ShapelyDeprecationWarning: The array interface is deprecated and will no longer work in Shapely 2.0. Convert the '.coords' to a numpy array instead.\n",
      "  vertices = concatenate([\n",
      "c:\\Users\\Yamac\\AppData\\Local\\Programs\\Python\\Python310\\lib\\site-packages\\descartes\\patch.py:64: ShapelyDeprecationWarning: The array interface is deprecated and will no longer work in Shapely 2.0. Convert the '.coords' to a numpy array instead.\n",
      "  [asarray(r)[:, :2] for r in t.interiors])\n"
     ]
    },
    {
     "data": {
      "image/png": "[encoded data removed]",
      "text/plain": [
       "<Figure size 1200x800 with 2 Axes>"
      ]
     },
     "metadata": {},
     "output_type": "display_data"
    }
   ],
   "source": [
    "fig, ax = plt.subplots(figsize=(12, 8))\n",
    "dof.plot(column='Valor', cmap='viridis', ax=ax, legend=True)\n",
    "plt.title('Population in Brazilian Municipalities')\n",
    "plt.show()"
   ]
  },
  {
   "cell_type": "code",
   "execution_count": null,
   "metadata": {},
   "outputs": [],
   "source": []
  }
 ],
 "metadata": {
  "kernelspec": {
   "display_name": "Python 3",
   "language": "python",
   "name": "python3"
  },
  "language_info": {
   "codemirror_mode": {
    "name": "ipython",
    "version": 3
   },
   "file_extension": ".py",
   "mimetype": "text/x-python",
   "name": "python",
   "nbconvert_exporter": "python",
   "pygments_lexer": "ipython3",
   "version": "3.10.7"
  },
  "orig_nbformat": 4
 },
 "nbformat": 4,
 "nbformat_minor": 2
}
